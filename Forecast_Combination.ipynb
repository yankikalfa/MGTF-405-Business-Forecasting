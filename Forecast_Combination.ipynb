{
  "cells": [
    {
      "cell_type": "markdown",
      "metadata": {
        "id": "view-in-github",
        "colab_type": "text"
      },
      "source": [
        "<a href=\"https://colab.research.google.com/github/yankikalfa/MGTF-405-Business-Forecasting/blob/main/Forecast_Combination.ipynb\" target=\"_parent\"><img src=\"https://colab.research.google.com/assets/colab-badge.svg\" alt=\"Open In Colab\"/></a>"
      ]
    },
    {
      "cell_type": "code",
      "execution_count": 1,
      "id": "8d5e80f3",
      "metadata": {
        "id": "8d5e80f3",
        "outputId": "243960bb-8afe-4411-8620-6e2624d37745",
        "colab": {
          "base_uri": "https://localhost:8080/"
        }
      },
      "outputs": [
        {
          "output_type": "stream",
          "name": "stdout",
          "text": [
            "Mounted at /content/drive\n"
          ]
        }
      ],
      "source": [
        "import pandas as pd\n",
        "import matplotlib.pyplot as plt\n",
        "import numpy as np\n",
        "from sklearn.linear_model import Lasso\n",
        "import itertools\n",
        "from sklearn.metrics import mean_squared_error\n",
        "import statsmodels.api as sm\n",
        "from google.colab import drive\n",
        "drive.mount('/content/drive')"
      ]
    },
    {
      "cell_type": "code",
      "execution_count": 2,
      "id": "810eafc4",
      "metadata": {
        "id": "810eafc4",
        "outputId": "f803e5d9-dede-4c6f-c714-50bda5d03eff",
        "colab": {
          "base_uri": "https://localhost:8080/"
        }
      },
      "outputs": [
        {
          "output_type": "stream",
          "name": "stderr",
          "text": [
            "/usr/local/lib/python3.7/dist-packages/openpyxl/worksheet/header_footer.py:48: UserWarning: Cannot parse header or footer so it will be ignored\n",
            "  warn(\"\"\"Cannot parse header or footer so it will be ignored\"\"\")\n"
          ]
        }
      ],
      "source": [
        "df = pd.read_excel(\"/content/drive/MyDrive/MGTF 405/PredictorData2021.xlsx\",0)\n",
        "df['excess_returns'] = df['CRSP_SPvw'] -df['Rfree'] \n",
        "df.drop(['Index','CRSP_SPvw','Rfree','csp','CRSP_SPvwx'], axis=1, inplace=True)\n"
      ]
    },
    {
      "cell_type": "code",
      "execution_count": 3,
      "id": "b73fd301",
      "metadata": {
        "id": "b73fd301"
      },
      "outputs": [],
      "source": [
        "X = df.loc[515:df.shape[0]-2, ~df.columns.isin(['excess_returns','yyyymm'])].reset_index(drop=True)\n",
        "Y = df.loc[516:,'excess_returns'].reset_index(drop=True)\n"
      ]
    },
    {
      "cell_type": "code",
      "execution_count": 5,
      "id": "7e7ea779",
      "metadata": {
        "id": "7e7ea779"
      },
      "outputs": [],
      "source": [
        "#### create combination of features\n",
        "input_columns = [i for i in X.columns]\n",
        "for i in range(2,len(X.columns)+1):\n",
        "    a = list(itertools.combinations(X.columns,i))\n",
        "    input_columns = input_columns + a\n",
        "    \n"
      ]
    },
    {
      "cell_type": "code",
      "execution_count": 6,
      "id": "253dce28",
      "metadata": {
        "id": "253dce28"
      },
      "outputs": [],
      "source": [
        "def forecast_with_column_selections(X,Y,test_size,columns):\n",
        "    \"\"\"\n",
        "    parameters:\n",
        "    -----------\n",
        "    X = DataFrame of independent variables\n",
        "    Y = Series of dependent variable\n",
        "    test_size = The number of data points to test on\n",
        "    columns = The features to pass for training\n",
        "    \n",
        "    returns:\n",
        "    --------\n",
        "    rmse = Root mean square error of the test set\n",
        "    predictions = an array of of predicted values \n",
        "    \"\"\"\n",
        "    \n",
        "    \n",
        "    predictions = []\n",
        "    X_train = pd.DataFrame(X.loc[:len(X)-test_size-1,columns])\n",
        "    Y_train = Y[:len(X)-test_size]\n",
        "    \n",
        "    for i in range(test_size):\n",
        "        X_test = pd.DataFrame(X.loc[len(X)-test_size+i:len(X)-test_size+i,columns])\n",
        "        Y_test = Y[len(X)-test_size+i]\n",
        "        \n",
        "        linear_reg = sm.OLS(Y_train, X_train)\n",
        "        res = linear_reg.fit()\n",
        "        pred_test = res.predict(X_test)\n",
        "        predictions.append(pred_test.values[0])\n",
        "        \n",
        "        X_train = X_train.append(X_test).reset_index(drop=True)\n",
        "        Y_train = Y_train.append(pd.Series(Y_test)).reset_index(drop=True)\n",
        "        \n",
        "    rmse = np.sqrt(mean_squared_error(Y[len(X)-test_size:], predictions))\n",
        "    return rmse, np.array(predictions)"
      ]
    },
    {
      "cell_type": "code",
      "execution_count": 16,
      "id": "fbf8e1e2",
      "metadata": {
        "id": "fbf8e1e2"
      },
      "outputs": [],
      "source": [
        "#### run the prediction for each combination of features\n",
        "all_model_rmse = []\n",
        "all_model_predictions =[]\n",
        "for i in input_columns:\n",
        "    RMSE, pred = forecast_with_column_selections(X,Y,24,i)\n",
        "    all_model_rmse.append(RMSE)\n",
        "    all_model_predictions.append(pred)\n",
        "    "
      ]
    },
    {
      "cell_type": "code",
      "execution_count": 17,
      "id": "3ff66cd7",
      "metadata": {
        "id": "3ff66cd7"
      },
      "outputs": [],
      "source": [
        "#### calculate weights for each model based on inverse RMSE of test set\n",
        "inv_model_rmse = 1/np.array(all_model_rmse)\n",
        "weight_for_each_model = inv_model_rmse/sum(inv_model_rmse)"
      ]
    },
    {
      "cell_type": "code",
      "execution_count": 19,
      "id": "28fabb46",
      "metadata": {
        "id": "28fabb46"
      },
      "outputs": [],
      "source": [
        "#### multiply the output with the weights\n",
        "weighted_output = []\n",
        "for i in range(len(weight_for_each_model)):\n",
        "    weighted_output.append(weight_for_each_model[i]*all_model_predictions[i])"
      ]
    },
    {
      "cell_type": "code",
      "execution_count": 20,
      "id": "41fe5538",
      "metadata": {
        "id": "41fe5538"
      },
      "outputs": [],
      "source": [
        "#### create a final dataframe consisting of the weighted average score of all models\n",
        "final = pd.DataFrame(weighted_output).sum(axis=0)"
      ]
    },
    {
      "cell_type": "code",
      "execution_count": 22,
      "id": "e2723662",
      "metadata": {
        "id": "e2723662",
        "outputId": "e7854d35-6325-4ae2-d189-901d46785152",
        "colab": {
          "base_uri": "https://localhost:8080/",
          "height": 281
        }
      },
      "outputs": [
        {
          "output_type": "display_data",
          "data": {
            "text/plain": [
              "<Figure size 432x288 with 1 Axes>"
            ],
            "image/png": "[encoded data removed]"
          },
          "metadata": {
            "needs_background": "light"
          }
        }
      ],
      "source": [
        "plt.plot([i for i in range(len(final))],Y[-24:])\n",
        "plt.plot([i for i in range(len(final))],final)\n",
        "plt.legend(('Actual','Fitted'))\n",
        "plt.title('2K forecast check')\n",
        "plt.show()"
      ]
    },
    {
      "cell_type": "code",
      "execution_count": null,
      "id": "b6de5db6",
      "metadata": {
        "id": "b6de5db6"
      },
      "outputs": [],
      "source": []
    }
  ],
  "metadata": {
    "kernelspec": {
      "display_name": "Python 3 (ipykernel)",
      "language": "python",
      "name": "python3"
    },
    "language_info": {
      "codemirror_mode": {
        "name": "ipython",
        "version": 3
      },
      "file_extension": ".py",
      "mimetype": "text/x-python",
      "name": "python",
      "nbconvert_exporter": "python",
      "pygments_lexer": "ipython3",
      "version": "3.8.8"
    },
    "colab": {
      "provenance": [],
      "include_colab_link": true
    }
  },
  "nbformat": 4,
  "nbformat_minor": 5
}