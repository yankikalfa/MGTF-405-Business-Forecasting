{
  "nbformat": 4,
  "nbformat_minor": 0,
  "metadata": {
    "colab": {
      "name": "Test Codes.ipynb",
      "provenance": [],
      "collapsed_sections": [],
      "toc_visible": true,
      "mount_file_id": "1Uo7onB9C4r1RiuhchdqmQ-d3RlrHU_JR",
      "authorship_tag": "ABX9TyP7IFKAahjxz6okOFGxMCnw",
      "include_colab_link": true
    },
    "kernelspec": {
      "name": "python3",
      "display_name": "Python 3"
    },
    "language_info": {
      "name": "python"
    }
  },
  "cells": [
    {
      "cell_type": "markdown",
      "metadata": {
        "id": "view-in-github",
        "colab_type": "text"
      },
      "source": [
        "<a href=\"https://colab.research.google.com/github/yankikalfa/MGTF-405-Business-Forecasting/blob/main/Test_Codes.ipynb\" target=\"_parent\"><img src=\"https://colab.research.google.com/assets/colab-badge.svg\" alt=\"Open In Colab\"/></a>"
      ]
    },
    {
      "cell_type": "markdown",
      "source": [
        "# Test Codes for MGTF 405"
      ],
      "metadata": {
        "id": "_bMnk_p1s-6l"
      }
    },
    {
      "cell_type": "markdown",
      "source": [
        "## Test Code for Assignments"
      ],
      "metadata": {
        "id": "4gkGm6RqtGgv"
      }
    },
    {
      "cell_type": "markdown",
      "source": [
        "We will use the Goyal Welch dataset obtained from the following page:\n",
        "https://drive.google.com/file/d/1ACbhdnIy0VbCWgsnXkjcddiV8HF4feWv/view?usp=sharing\n",
        "\n",
        "We will be testing the following procedures:\n",
        "* ARIMA, and Lag Selection\n",
        "* ADF tests\n",
        "* ACF, PACF, Ljung Box Test\n",
        "* Lasso, Elastic Net"
      ],
      "metadata": {
        "id": "__H0Pp3gtN1T"
      }
    },
    {
      "cell_type": "code",
      "execution_count": 1,
      "metadata": {
        "id": "Hl-BJWVooHP5"
      },
      "outputs": [],
      "source": [
        "import pandas as pd"
      ]
    },
    {
      "cell_type": "code",
      "source": [
        "df = pd.read_excel('/content/drive/MyDrive/PredictorData2020.xlsx', parse_dates=True)"
      ],
      "metadata": {
        "id": "Zkmx1dXyyVMr"
      },
      "execution_count": 8,
      "outputs": []
    },
    {
      "cell_type": "code",
      "source": [
        "df['yyyymm'] = pd.to_datetime(df['yyyymm'],format='%Y%m', errors='coerce')"
      ],
      "metadata": {
        "id": "E4N2kMVjyZzL"
      },
      "execution_count": 9,
      "outputs": []
    },
    {
      "cell_type": "code",
      "source": [
        "df.set_index('yyyymm',inplace=True)\n",
        "df.head()\n"
      ],
      "metadata": {
        "colab": {
          "base_uri": "https://localhost:8080/",
          "height": 237
        },
        "id": "mnQCQOsvydOV",
        "outputId": "f5f616cf-4585-4052-c74b-a936a5686145"
      },
      "execution_count": 10,
      "outputs": [
        {
          "output_type": "execute_result",
          "data": {
            "text/html": [
              "\n",
              "  <div id=\"df-85148928-b907-4791-852a-dd78780ad237\">\n",
              "    <div class=\"colab-df-container\">\n",
              "      <div>\n",
              "<style scoped>\n",
              "    .dataframe tbody tr th:only-of-type {\n",
              "        vertical-align: middle;\n",
              "    }\n",
              "\n",
              "    .dataframe tbody tr th {\n",
              "        vertical-align: top;\n",
              "    }\n",
              "\n",
              "    .dataframe thead th {\n",
              "        text-align: right;\n",
              "    }\n",
              "</style>\n",
              "<table border=\"1\" class=\"dataframe\">\n",
              "  <thead>\n",
              "    <tr style=\"text-align: right;\">\n",
              "      <th></th>\n",
              "      <th>Index</th>\n",
              "      <th>D12</th>\n",
              "      <th>E12</th>\n",
              "      <th>b/m</th>\n",
              "      <th>tbl</th>\n",
              "      <th>AAA</th>\n",
              "      <th>BAA</th>\n",
              "      <th>lty</th>\n",
              "      <th>ntis</th>\n",
              "      <th>Rfree</th>\n",
              "      <th>infl</th>\n",
              "      <th>ltr</th>\n",
              "      <th>corpr</th>\n",
              "      <th>svar</th>\n",
              "      <th>csp</th>\n",
              "      <th>CRSP_SPvw</th>\n",
              "      <th>CRSP_SPvwx</th>\n",
              "    </tr>\n",
              "    <tr>\n",
              "      <th>yyyymm</th>\n",
              "      <th></th>\n",
              "      <th></th>\n",
              "      <th></th>\n",
              "      <th></th>\n",
              "      <th></th>\n",
              "      <th></th>\n",
              "      <th></th>\n",
              "      <th></th>\n",
              "      <th></th>\n",
              "      <th></th>\n",
              "      <th></th>\n",
              "      <th></th>\n",
              "      <th></th>\n",
              "      <th></th>\n",
              "      <th></th>\n",
              "      <th></th>\n",
              "      <th></th>\n",
              "    </tr>\n",
              "  </thead>\n",
              "  <tbody>\n",
              "    <tr>\n",
              "      <th>1927-01-01</th>\n",
              "      <td>13.21</td>\n",
              "      <td>0.6967</td>\n",
              "      <td>1.229</td>\n",
              "      <td>0.443706</td>\n",
              "      <td>0.0323</td>\n",
              "      <td>0.0466</td>\n",
              "      <td>0.0561</td>\n",
              "      <td>0.0351</td>\n",
              "      <td>0.050824</td>\n",
              "      <td>0.0025</td>\n",
              "      <td>-0.011299</td>\n",
              "      <td>0.0075</td>\n",
              "      <td>0.0056</td>\n",
              "      <td>0.000470</td>\n",
              "      <td>NaN</td>\n",
              "      <td>-0.002910</td>\n",
              "      <td>-0.005579</td>\n",
              "    </tr>\n",
              "    <tr>\n",
              "      <th>1927-02-01</th>\n",
              "      <td>13.84</td>\n",
              "      <td>0.7033</td>\n",
              "      <td>1.218</td>\n",
              "      <td>0.428501</td>\n",
              "      <td>0.0329</td>\n",
              "      <td>0.0467</td>\n",
              "      <td>0.0559</td>\n",
              "      <td>0.0347</td>\n",
              "      <td>0.051668</td>\n",
              "      <td>0.0026</td>\n",
              "      <td>-0.005714</td>\n",
              "      <td>0.0088</td>\n",
              "      <td>0.0069</td>\n",
              "      <td>0.000287</td>\n",
              "      <td>NaN</td>\n",
              "      <td>0.045522</td>\n",
              "      <td>0.040566</td>\n",
              "    </tr>\n",
              "    <tr>\n",
              "      <th>1927-03-01</th>\n",
              "      <td>13.93</td>\n",
              "      <td>0.7100</td>\n",
              "      <td>1.208</td>\n",
              "      <td>0.469765</td>\n",
              "      <td>0.0320</td>\n",
              "      <td>0.0462</td>\n",
              "      <td>0.0554</td>\n",
              "      <td>0.0331</td>\n",
              "      <td>0.046357</td>\n",
              "      <td>0.0030</td>\n",
              "      <td>-0.005747</td>\n",
              "      <td>0.0253</td>\n",
              "      <td>0.0083</td>\n",
              "      <td>0.000924</td>\n",
              "      <td>NaN</td>\n",
              "      <td>0.007324</td>\n",
              "      <td>0.002610</td>\n",
              "    </tr>\n",
              "    <tr>\n",
              "      <th>1927-04-01</th>\n",
              "      <td>14.17</td>\n",
              "      <td>0.7167</td>\n",
              "      <td>1.197</td>\n",
              "      <td>0.456754</td>\n",
              "      <td>0.0339</td>\n",
              "      <td>0.0458</td>\n",
              "      <td>0.0548</td>\n",
              "      <td>0.0333</td>\n",
              "      <td>0.050514</td>\n",
              "      <td>0.0025</td>\n",
              "      <td>0.000000</td>\n",
              "      <td>-0.0005</td>\n",
              "      <td>0.0055</td>\n",
              "      <td>0.000603</td>\n",
              "      <td>NaN</td>\n",
              "      <td>0.013021</td>\n",
              "      <td>0.010907</td>\n",
              "    </tr>\n",
              "    <tr>\n",
              "      <th>1927-05-01</th>\n",
              "      <td>14.91</td>\n",
              "      <td>0.7233</td>\n",
              "      <td>1.186</td>\n",
              "      <td>0.434783</td>\n",
              "      <td>0.0333</td>\n",
              "      <td>0.0457</td>\n",
              "      <td>0.0550</td>\n",
              "      <td>0.0327</td>\n",
              "      <td>0.055275</td>\n",
              "      <td>0.0030</td>\n",
              "      <td>0.005780</td>\n",
              "      <td>0.0109</td>\n",
              "      <td>-0.0011</td>\n",
              "      <td>0.000392</td>\n",
              "      <td>NaN</td>\n",
              "      <td>0.062353</td>\n",
              "      <td>0.057096</td>\n",
              "    </tr>\n",
              "  </tbody>\n",
              "</table>\n",
              "</div>\n",
              "      <button class=\"colab-df-convert\" onclick=\"convertToInteractive('df-85148928-b907-4791-852a-dd78780ad237')\"\n",
              "              title=\"Convert this dataframe to an interactive table.\"\n",
              "              style=\"display:none;\">\n",
              "        \n",
              "  <svg xmlns=\"http://www.w3.org/2000/svg\" height=\"24px\"viewBox=\"0 0 24 24\"\n",
              "       width=\"24px\">\n",
              "    <path d=\"M0 0h24v24H0V0z\" fill=\"none\"/>\n",
              "    <path d=\"M18.56 5.44l.94 2.06.94-2.06 2.06-.94-2.06-.94-.94-2.06-.94 2.06-2.06.94zm-11 1L8.5 8.5l.94-2.06 2.06-.94-2.06-.94L8.5 2.5l-.94 2.06-2.06.94zm10 10l.94 2.06.94-2.06 2.06-.94-2.06-.94-.94-2.06-.94 2.06-2.06.94z\"/><path d=\"M17.41 7.96l-1.37-1.37c-.4-.4-.92-.59-1.43-.59-.52 0-1.04.2-1.43.59L10.3 9.45l-7.72 7.72c-.78.78-.78 2.05 0 2.83L4 21.41c.39.39.9.59 1.41.59.51 0 1.02-.2 1.41-.59l7.78-7.78 2.81-2.81c.8-.78.8-2.07 0-2.86zM5.41 20L4 18.59l7.72-7.72 1.47 1.35L5.41 20z\"/>\n",
              "  </svg>\n",
              "      </button>\n",
              "      \n",
              "  <style>\n",
              "    .colab-df-container {\n",
              "      display:flex;\n",
              "      flex-wrap:wrap;\n",
              "      gap: 12px;\n",
              "    }\n",
              "\n",
              "    .colab-df-convert {\n",
              "      background-color: #E8F0FE;\n",
              "      border: none;\n",
              "      border-radius: 50%;\n",
              "      cursor: pointer;\n",
              "      display: none;\n",
              "      fill: #1967D2;\n",
              "      height: 32px;\n",
              "      padding: 0 0 0 0;\n",
              "      width: 32px;\n",
              "    }\n",
              "\n",
              "    .colab-df-convert:hover {\n",
              "      background-color: #E2EBFA;\n",
              "      box-shadow: 0px 1px 2px rgba(60, 64, 67, 0.3), 0px 1px 3px 1px rgba(60, 64, 67, 0.15);\n",
              "      fill: #174EA6;\n",
              "    }\n",
              "\n",
              "    [theme=dark] .colab-df-convert {\n",
              "      background-color: #3B4455;\n",
              "      fill: #D2E3FC;\n",
              "    }\n",
              "\n",
              "    [theme=dark] .colab-df-convert:hover {\n",
              "      background-color: #434B5C;\n",
              "      box-shadow: 0px 1px 3px 1px rgba(0, 0, 0, 0.15);\n",
              "      filter: drop-shadow(0px 1px 2px rgba(0, 0, 0, 0.3));\n",
              "      fill: #FFFFFF;\n",
              "    }\n",
              "  </style>\n",
              "\n",
              "      <script>\n",
              "        const buttonEl =\n",
              "          document.querySelector('#df-85148928-b907-4791-852a-dd78780ad237 button.colab-df-convert');\n",
              "        buttonEl.style.display =\n",
              "          google.colab.kernel.accessAllowed ? 'block' : 'none';\n",
              "\n",
              "        async function convertToInteractive(key) {\n",
              "          const element = document.querySelector('#df-85148928-b907-4791-852a-dd78780ad237');\n",
              "          const dataTable =\n",
              "            await google.colab.kernel.invokeFunction('convertToInteractive',\n",
              "                                                     [key], {});\n",
              "          if (!dataTable) return;\n",
              "\n",
              "          const docLinkHtml = 'Like what you see? Visit the ' +\n",
              "            '<a target=\"_blank\" href=https://colab.research.google.com/notebooks/data_table.ipynb>data table notebook</a>'\n",
              "            + ' to learn more about interactive tables.';\n",
              "          element.innerHTML = '';\n",
              "          dataTable['output_type'] = 'display_data';\n",
              "          await google.colab.output.renderOutput(dataTable, element);\n",
              "          const docLink = document.createElement('div');\n",
              "          docLink.innerHTML = docLinkHtml;\n",
              "          element.appendChild(docLink);\n",
              "        }\n",
              "      </script>\n",
              "    </div>\n",
              "  </div>\n",
              "  "
            ],
            "text/plain": [
              "            Index     D12    E12  ...  csp  CRSP_SPvw  CRSP_SPvwx\n",
              "yyyymm                            ...                            \n",
              "1927-01-01  13.21  0.6967  1.229  ...  NaN  -0.002910   -0.005579\n",
              "1927-02-01  13.84  0.7033  1.218  ...  NaN   0.045522    0.040566\n",
              "1927-03-01  13.93  0.7100  1.208  ...  NaN   0.007324    0.002610\n",
              "1927-04-01  14.17  0.7167  1.197  ...  NaN   0.013021    0.010907\n",
              "1927-05-01  14.91  0.7233  1.186  ...  NaN   0.062353    0.057096\n",
              "\n",
              "[5 rows x 17 columns]"
            ]
          },
          "metadata": {},
          "execution_count": 10
        }
      ]
    },
    {
      "cell_type": "code",
      "source": [
        "! pip install statsmodels -U"
      ],
      "metadata": {
        "id": "tu8XEGWx1b9Q"
      },
      "execution_count": null,
      "outputs": []
    },
    {
      "cell_type": "code",
      "source": [
        "!pip install pmdarima\n",
        "import pmdarima\n",
        "import itertools\n",
        "from statsmodels.tsa.arima.model import ARIMA"
      ],
      "metadata": {
        "colab": {
          "base_uri": "https://localhost:8080/"
        },
        "id": "4zluBraq1kgm",
        "outputId": "9982805d-dbcc-43d1-a3c0-57d990513b09"
      },
      "execution_count": null,
      "outputs": [
        {
          "output_type": "stream",
          "name": "stdout",
          "text": [
            "Collecting pmdarima\n",
            "  Downloading pmdarima-1.8.4-cp37-cp37m-manylinux_2_17_x86_64.manylinux2014_x86_64.manylinux_2_24_x86_64.whl (1.4 MB)\n",
            "\u001b[?25l\r\u001b[K     |▎                               | 10 kB 22.6 MB/s eta 0:00:01\r\u001b[K     |▌                               | 20 kB 30.9 MB/s eta 0:00:01\r\u001b[K     |▊                               | 30 kB 27.5 MB/s eta 0:00:01\r\u001b[K     |█                               | 40 kB 20.5 MB/s eta 0:00:01\r\u001b[K     |█▏                              | 51 kB 17.8 MB/s eta 0:00:01\r\u001b[K     |█▍                              | 61 kB 14.8 MB/s eta 0:00:01\r\u001b[K     |█▋                              | 71 kB 13.9 MB/s eta 0:00:01\r\u001b[K     |██                              | 81 kB 15.4 MB/s eta 0:00:01\r\u001b[K     |██▏                             | 92 kB 15.7 MB/s eta 0:00:01\r\u001b[K     |██▍                             | 102 kB 14.2 MB/s eta 0:00:01\r\u001b[K     |██▋                             | 112 kB 14.2 MB/s eta 0:00:01\r\u001b[K     |██▉                             | 122 kB 14.2 MB/s eta 0:00:01\r\u001b[K     |███                             | 133 kB 14.2 MB/s eta 0:00:01\r\u001b[K     |███▎                            | 143 kB 14.2 MB/s eta 0:00:01\r\u001b[K     |███▌                            | 153 kB 14.2 MB/s eta 0:00:01\r\u001b[K     |███▉                            | 163 kB 14.2 MB/s eta 0:00:01\r\u001b[K     |████                            | 174 kB 14.2 MB/s eta 0:00:01\r\u001b[K     |████▎                           | 184 kB 14.2 MB/s eta 0:00:01\r\u001b[K     |████▌                           | 194 kB 14.2 MB/s eta 0:00:01\r\u001b[K     |████▊                           | 204 kB 14.2 MB/s eta 0:00:01\r\u001b[K     |█████                           | 215 kB 14.2 MB/s eta 0:00:01\r\u001b[K     |█████▏                          | 225 kB 14.2 MB/s eta 0:00:01\r\u001b[K     |█████▌                          | 235 kB 14.2 MB/s eta 0:00:01\r\u001b[K     |█████▊                          | 245 kB 14.2 MB/s eta 0:00:01\r\u001b[K     |██████                          | 256 kB 14.2 MB/s eta 0:00:01\r\u001b[K     |██████▏                         | 266 kB 14.2 MB/s eta 0:00:01\r\u001b[K     |██████▍                         | 276 kB 14.2 MB/s eta 0:00:01\r\u001b[K     |██████▋                         | 286 kB 14.2 MB/s eta 0:00:01\r\u001b[K     |██████▉                         | 296 kB 14.2 MB/s eta 0:00:01\r\u001b[K     |███████                         | 307 kB 14.2 MB/s eta 0:00:01\r\u001b[K     |███████▍                        | 317 kB 14.2 MB/s eta 0:00:01\r\u001b[K     |███████▋                        | 327 kB 14.2 MB/s eta 0:00:01\r\u001b[K     |███████▉                        | 337 kB 14.2 MB/s eta 0:00:01\r\u001b[K     |████████                        | 348 kB 14.2 MB/s eta 0:00:01\r\u001b[K     |████████▎                       | 358 kB 14.2 MB/s eta 0:00:01\r\u001b[K     |████████▌                       | 368 kB 14.2 MB/s eta 0:00:01\r\u001b[K     |████████▊                       | 378 kB 14.2 MB/s eta 0:00:01\r\u001b[K     |█████████                       | 389 kB 14.2 MB/s eta 0:00:01\r\u001b[K     |█████████▎                      | 399 kB 14.2 MB/s eta 0:00:01\r\u001b[K     |█████████▌                      | 409 kB 14.2 MB/s eta 0:00:01\r\u001b[K     |█████████▊                      | 419 kB 14.2 MB/s eta 0:00:01\r\u001b[K     |██████████                      | 430 kB 14.2 MB/s eta 0:00:01\r\u001b[K     |██████████▏                     | 440 kB 14.2 MB/s eta 0:00:01\r\u001b[K     |██████████▍                     | 450 kB 14.2 MB/s eta 0:00:01\r\u001b[K     |██████████▋                     | 460 kB 14.2 MB/s eta 0:00:01\r\u001b[K     |███████████                     | 471 kB 14.2 MB/s eta 0:00:01\r\u001b[K     |███████████▏                    | 481 kB 14.2 MB/s eta 0:00:01\r\u001b[K     |███████████▍                    | 491 kB 14.2 MB/s eta 0:00:01\r\u001b[K     |███████████▋                    | 501 kB 14.2 MB/s eta 0:00:01\r\u001b[K     |███████████▉                    | 512 kB 14.2 MB/s eta 0:00:01\r\u001b[K     |████████████                    | 522 kB 14.2 MB/s eta 0:00:01\r\u001b[K     |████████████▎                   | 532 kB 14.2 MB/s eta 0:00:01\r\u001b[K     |████████████▌                   | 542 kB 14.2 MB/s eta 0:00:01\r\u001b[K     |████████████▉                   | 552 kB 14.2 MB/s eta 0:00:01\r\u001b[K     |█████████████                   | 563 kB 14.2 MB/s eta 0:00:01\r\u001b[K     |█████████████▎                  | 573 kB 14.2 MB/s eta 0:00:01\r\u001b[K     |█████████████▌                  | 583 kB 14.2 MB/s eta 0:00:01\r\u001b[K     |█████████████▊                  | 593 kB 14.2 MB/s eta 0:00:01\r\u001b[K     |██████████████                  | 604 kB 14.2 MB/s eta 0:00:01\r\u001b[K     |██████████████▏                 | 614 kB 14.2 MB/s eta 0:00:01\r\u001b[K     |██████████████▍                 | 624 kB 14.2 MB/s eta 0:00:01\r\u001b[K     |██████████████▊                 | 634 kB 14.2 MB/s eta 0:00:01\r\u001b[K     |███████████████                 | 645 kB 14.2 MB/s eta 0:00:01\r\u001b[K     |███████████████▏                | 655 kB 14.2 MB/s eta 0:00:01\r\u001b[K     |███████████████▍                | 665 kB 14.2 MB/s eta 0:00:01\r\u001b[K     |███████████████▋                | 675 kB 14.2 MB/s eta 0:00:01\r\u001b[K     |███████████████▉                | 686 kB 14.2 MB/s eta 0:00:01\r\u001b[K     |████████████████                | 696 kB 14.2 MB/s eta 0:00:01\r\u001b[K     |████████████████▍               | 706 kB 14.2 MB/s eta 0:00:01\r\u001b[K     |████████████████▋               | 716 kB 14.2 MB/s eta 0:00:01\r\u001b[K     |████████████████▉               | 727 kB 14.2 MB/s eta 0:00:01\r\u001b[K     |█████████████████               | 737 kB 14.2 MB/s eta 0:00:01\r\u001b[K     |█████████████████▎              | 747 kB 14.2 MB/s eta 0:00:01\r\u001b[K     |█████████████████▌              | 757 kB 14.2 MB/s eta 0:00:01\r\u001b[K     |█████████████████▊              | 768 kB 14.2 MB/s eta 0:00:01\r\u001b[K     |██████████████████              | 778 kB 14.2 MB/s eta 0:00:01\r\u001b[K     |██████████████████▎             | 788 kB 14.2 MB/s eta 0:00:01\r\u001b[K     |██████████████████▌             | 798 kB 14.2 MB/s eta 0:00:01\r\u001b[K     |██████████████████▊             | 808 kB 14.2 MB/s eta 0:00:01\r\u001b[K     |███████████████████             | 819 kB 14.2 MB/s eta 0:00:01\r\u001b[K     |███████████████████▏            | 829 kB 14.2 MB/s eta 0:00:01\r\u001b[K     |███████████████████▍            | 839 kB 14.2 MB/s eta 0:00:01\r\u001b[K     |███████████████████▋            | 849 kB 14.2 MB/s eta 0:00:01\r\u001b[K     |███████████████████▉            | 860 kB 14.2 MB/s eta 0:00:01\r\u001b[K     |████████████████████▏           | 870 kB 14.2 MB/s eta 0:00:01\r\u001b[K     |████████████████████▍           | 880 kB 14.2 MB/s eta 0:00:01\r\u001b[K     |████████████████████▋           | 890 kB 14.2 MB/s eta 0:00:01\r\u001b[K     |████████████████████▉           | 901 kB 14.2 MB/s eta 0:00:01\r\u001b[K     |█████████████████████           | 911 kB 14.2 MB/s eta 0:00:01\r\u001b[K     |█████████████████████▎          | 921 kB 14.2 MB/s eta 0:00:01\r\u001b[K     |█████████████████████▌          | 931 kB 14.2 MB/s eta 0:00:01\r\u001b[K     |█████████████████████▉          | 942 kB 14.2 MB/s eta 0:00:01\r\u001b[K     |██████████████████████          | 952 kB 14.2 MB/s eta 0:00:01\r\u001b[K     |██████████████████████▎         | 962 kB 14.2 MB/s eta 0:00:01\r\u001b[K     |██████████████████████▌         | 972 kB 14.2 MB/s eta 0:00:01\r\u001b[K     |██████████████████████▊         | 983 kB 14.2 MB/s eta 0:00:01\r\u001b[K     |███████████████████████         | 993 kB 14.2 MB/s eta 0:00:01\r\u001b[K     |███████████████████████▏        | 1.0 MB 14.2 MB/s eta 0:00:01\r\u001b[K     |███████████████████████▍        | 1.0 MB 14.2 MB/s eta 0:00:01\r\u001b[K     |███████████████████████▊        | 1.0 MB 14.2 MB/s eta 0:00:01\r\u001b[K     |████████████████████████        | 1.0 MB 14.2 MB/s eta 0:00:01\r\u001b[K     |████████████████████████▏       | 1.0 MB 14.2 MB/s eta 0:00:01\r\u001b[K     |████████████████████████▍       | 1.1 MB 14.2 MB/s eta 0:00:01\r\u001b[K     |████████████████████████▋       | 1.1 MB 14.2 MB/s eta 0:00:01\r\u001b[K     |████████████████████████▉       | 1.1 MB 14.2 MB/s eta 0:00:01\r\u001b[K     |█████████████████████████       | 1.1 MB 14.2 MB/s eta 0:00:01\r\u001b[K     |█████████████████████████▎      | 1.1 MB 14.2 MB/s eta 0:00:01\r\u001b[K     |█████████████████████████▋      | 1.1 MB 14.2 MB/s eta 0:00:01\r\u001b[K     |█████████████████████████▉      | 1.1 MB 14.2 MB/s eta 0:00:01\r\u001b[K     |██████████████████████████      | 1.1 MB 14.2 MB/s eta 0:00:01\r\u001b[K     |██████████████████████████▎     | 1.1 MB 14.2 MB/s eta 0:00:01\r\u001b[K     |██████████████████████████▌     | 1.1 MB 14.2 MB/s eta 0:00:01\r\u001b[K     |██████████████████████████▊     | 1.2 MB 14.2 MB/s eta 0:00:01\r\u001b[K     |███████████████████████████     | 1.2 MB 14.2 MB/s eta 0:00:01\r\u001b[K     |███████████████████████████▎    | 1.2 MB 14.2 MB/s eta 0:00:01\r\u001b[K     |███████████████████████████▌    | 1.2 MB 14.2 MB/s eta 0:00:01\r\u001b[K     |███████████████████████████▊    | 1.2 MB 14.2 MB/s eta 0:00:01\r\u001b[K     |████████████████████████████    | 1.2 MB 14.2 MB/s eta 0:00:01\r\u001b[K     |████████████████████████████▏   | 1.2 MB 14.2 MB/s eta 0:00:01\r\u001b[K     |████████████████████████████▍   | 1.2 MB 14.2 MB/s eta 0:00:01\r\u001b[K     |████████████████████████████▋   | 1.2 MB 14.2 MB/s eta 0:00:01\r\u001b[K     |████████████████████████████▉   | 1.2 MB 14.2 MB/s eta 0:00:01\r\u001b[K     |█████████████████████████████▏  | 1.3 MB 14.2 MB/s eta 0:00:01\r\u001b[K     |█████████████████████████████▍  | 1.3 MB 14.2 MB/s eta 0:00:01\r\u001b[K     |█████████████████████████████▋  | 1.3 MB 14.2 MB/s eta 0:00:01\r\u001b[K     |█████████████████████████████▉  | 1.3 MB 14.2 MB/s eta 0:00:01\r\u001b[K     |██████████████████████████████  | 1.3 MB 14.2 MB/s eta 0:00:01\r\u001b[K     |██████████████████████████████▎ | 1.3 MB 14.2 MB/s eta 0:00:01\r\u001b[K     |██████████████████████████████▌ | 1.3 MB 14.2 MB/s eta 0:00:01\r\u001b[K     |██████████████████████████████▊ | 1.3 MB 14.2 MB/s eta 0:00:01\r\u001b[K     |███████████████████████████████ | 1.3 MB 14.2 MB/s eta 0:00:01\r\u001b[K     |███████████████████████████████▎| 1.4 MB 14.2 MB/s eta 0:00:01\r\u001b[K     |███████████████████████████████▌| 1.4 MB 14.2 MB/s eta 0:00:01\r\u001b[K     |███████████████████████████████▊| 1.4 MB 14.2 MB/s eta 0:00:01\r\u001b[K     |████████████████████████████████| 1.4 MB 14.2 MB/s eta 0:00:01\r\u001b[K     |████████████████████████████████| 1.4 MB 14.2 MB/s \n",
            "\u001b[?25hRequirement already satisfied: setuptools!=50.0.0,>=38.6.0 in /usr/local/lib/python3.7/dist-packages (from pmdarima) (57.4.0)\n",
            "Requirement already satisfied: scipy>=1.3.2 in /usr/local/lib/python3.7/dist-packages (from pmdarima) (1.4.1)\n",
            "Requirement already satisfied: Cython!=0.29.18,>=0.29 in /usr/local/lib/python3.7/dist-packages (from pmdarima) (0.29.24)\n",
            "Requirement already satisfied: joblib>=0.11 in /usr/local/lib/python3.7/dist-packages (from pmdarima) (1.1.0)\n",
            "Requirement already satisfied: scikit-learn>=0.22 in /usr/local/lib/python3.7/dist-packages (from pmdarima) (1.0.1)\n",
            "Requirement already satisfied: statsmodels!=0.12.0,>=0.11 in /usr/local/lib/python3.7/dist-packages (from pmdarima) (0.13.1)\n",
            "Requirement already satisfied: pandas>=0.19 in /usr/local/lib/python3.7/dist-packages (from pmdarima) (1.1.5)\n",
            "Requirement already satisfied: urllib3 in /usr/local/lib/python3.7/dist-packages (from pmdarima) (1.24.3)\n",
            "Requirement already satisfied: numpy>=1.19.3 in /usr/local/lib/python3.7/dist-packages (from pmdarima) (1.19.5)\n",
            "Requirement already satisfied: python-dateutil>=2.7.3 in /usr/local/lib/python3.7/dist-packages (from pandas>=0.19->pmdarima) (2.8.2)\n",
            "Requirement already satisfied: pytz>=2017.2 in /usr/local/lib/python3.7/dist-packages (from pandas>=0.19->pmdarima) (2018.9)\n",
            "Requirement already satisfied: six>=1.5 in /usr/local/lib/python3.7/dist-packages (from python-dateutil>=2.7.3->pandas>=0.19->pmdarima) (1.15.0)\n",
            "Requirement already satisfied: threadpoolctl>=2.0.0 in /usr/local/lib/python3.7/dist-packages (from scikit-learn>=0.22->pmdarima) (3.0.0)\n",
            "Requirement already satisfied: patsy>=0.5.2 in /usr/local/lib/python3.7/dist-packages (from statsmodels!=0.12.0,>=0.11->pmdarima) (0.5.2)\n",
            "Installing collected packages: pmdarima\n",
            "Successfully installed pmdarima-1.8.4\n"
          ]
        }
      ]
    },
    {
      "cell_type": "markdown",
      "source": [
        "The function\n",
        "\n",
        "```\n",
        "AIC_PDQ\n",
        "```\n",
        "\n",
        "takes 4 arguments, the series, max lag on the AR parameters labeled 'p', the integration order labeled 'ii', and the max lags on the MA parameter labeled 'q'. If we know the series does not need to be differenced, then we set ii=1, if the integration order is 1, then we set ii=2.\n",
        "\n",
        "The output of the function is the combination of p,d,q that minimizes AIC,\n",
        "\n",
        "We create a similar function called:\n",
        "```\n",
        "BIC_PDQ\n",
        "```\n",
        "which takes the same arguments, however, returns the combination of p,d,q that minimizes BIC.\n"
      ],
      "metadata": {
        "id": "XR6C4bO78wDB"
      }
    },
    {
      "cell_type": "code",
      "source": [
        "def AIC_PDQ(df,ar,ii,ma): \n",
        "\n",
        "# Define the p, d and q parameters to take any value between 0 and 2\n",
        "    p = range(0,ar)\n",
        "    d = range(0,ii)\n",
        "    q = range(0, ma)\n",
        "\n",
        "# Auto-Regressive (p) -> Number of autoregressive terms.\n",
        "# Integrated (d) -> Number of nonseasonal differences needed for stationarity.\n",
        "# Moving Average (q) -> Number of lagged forecast errors in the prediction equation.\n",
        "# Generate all different combinations of p, q and q triplets\n",
        "    pdq = list(itertools.product(p, d, q))\n",
        "# Generate all different combinations of seasonal p, q and q triplets\n",
        "# Run a grid with pdq and seasonal pdq parameters calculated above and get #the best AIC value\n",
        "    ans = []\n",
        "    for comb in pdq:\n",
        "      try:\n",
        "          mod = ARIMA(df,\n",
        "                      order=comb,\n",
        "                      enforce_stationarity=False,\n",
        "                      enforce_invertibility=False)\n",
        "          \n",
        "          output = mod.fit()\n",
        "          ans.append([comb, output.aic])\n",
        "          print('ARIMA {} x {}12 : AIC Calculated ={}'.format(comb, output.aic))\n",
        "      except:\n",
        "        continue\n",
        "# Find the parameters with minimal AIC value\n",
        "    ans_df = pd.DataFrame(ans, columns=['pdq', 'aic'])\n",
        "    print(ans_df.loc[ans_df['aic'].idxmin()])\n",
        "    return ans_df\n"
      ],
      "metadata": {
        "id": "VQaCSjgSz9RO"
      },
      "execution_count": null,
      "outputs": []
    },
    {
      "cell_type": "code",
      "source": [
        "AIC_PDQ(df['Index'],12,1,12)"
      ],
      "metadata": {
        "id": "NWnr8acV2_cj"
      },
      "execution_count": null,
      "outputs": []
    },
    {
      "cell_type": "code",
      "source": [
        "def BIC_PDQ(df,ar,ii,ma): \n",
        "\n",
        "# Define the p, d and q parameters to take any value between 0 and 2\n",
        "    p = range(0,ar)\n",
        "    d = range(0,ii)\n",
        "    q = range(0, ma)\n",
        "\n",
        "# Auto-Regressive (p) -> Number of autoregressive terms.\n",
        "# Integrated (d) -> Number of nonseasonal differences needed for stationarity.\n",
        "# Moving Average (q) -> Number of lagged forecast errors in the prediction equation.\n",
        "# Generate all different combinations of p, q and q triplets\n",
        "    pdq = list(itertools.product(p, d, q))\n",
        "# Generate all different combinations of seasonal p, q and q triplets\n",
        "# Run a grid with pdq and seasonal pdq parameters calculated above and get #the best AIC value\n",
        "    ans = []\n",
        "    for comb in pdq:\n",
        "      try:\n",
        "          mod = ARIMA(df,\n",
        "                      order=comb,\n",
        "                      enforce_stationarity=False,\n",
        "                      enforce_invertibility=False)\n",
        "          \n",
        "          output = mod.fit()\n",
        "          ans.append([comb, output.aic])\n",
        "          print('ARIMA {} x {}12 : AIC Calculated ={}'.format(comb, output.bic))\n",
        "      except:\n",
        "        continue\n",
        "# Find the parameters with minimal AIC value\n",
        "    ans_df = pd.DataFrame(ans, columns=['pdq', 'bic'])\n",
        "    print(ans_df.loc[ans_df['bic'].idxmin()])\n",
        "    return ans_df\n"
      ],
      "metadata": {
        "id": "IEH5ekkA4Sdc"
      },
      "execution_count": null,
      "outputs": []
    },
    {
      "cell_type": "code",
      "source": [
        "BIC_PDQ(df['Index'],12,1,12)"
      ],
      "metadata": {
        "id": "YJ6XDJef6hjm"
      },
      "execution_count": null,
      "outputs": []
    },
    {
      "cell_type": "markdown",
      "source": [
        "We will now shift gears and focus on the Autocorrelation (ACF) and Partial Autocorrelation functions (PACF)."
      ],
      "metadata": {
        "id": "6F5S-j2K-PnC"
      }
    },
    {
      "cell_type": "code",
      "source": [
        "import statsmodels.api as sm"
      ],
      "metadata": {
        "id": "ULteS3EC_2Mm"
      },
      "execution_count": null,
      "outputs": []
    },
    {
      "cell_type": "code",
      "source": [
        "sm.graphics.tsa.plot_acf(df['Index'].squeeze(), lags=24)"
      ],
      "metadata": {
        "colab": {
          "base_uri": "https://localhost:8080/",
          "height": 545
        },
        "id": "-QhT53pG8uYl",
        "outputId": "1cf54792-3dde-4c07-86b8-975b58feb7e6"
      },
      "execution_count": null,
      "outputs": [
        {
          "output_type": "execute_result",
          "data": {
            "image/png": "[encoded data removed]",
            "text/plain": [
              "<Figure size 432x288 with 1 Axes>"
            ]
          },
          "metadata": {},
          "execution_count": 30
        },
        {
          "output_type": "display_data",
          "data": {
            "image/png": "[encoded data removed]",
            "text/plain": [
              "<Figure size 432x288 with 1 Axes>"
            ]
          },
          "metadata": {
            "needs_background": "light"
          }
        }
      ]
    },
    {
      "cell_type": "code",
      "source": [
        "sm.graphics.tsa.plot_pacf(df['Index'].squeeze(), lags=24)"
      ],
      "metadata": {
        "colab": {
          "base_uri": "https://localhost:8080/",
          "height": 599
        },
        "id": "vWnyrGnF_8NR",
        "outputId": "fb6ce9cb-125b-458d-ea14-a88498927adb"
      },
      "execution_count": null,
      "outputs": [
        {
          "output_type": "stream",
          "name": "stderr",
          "text": [
            "/usr/local/lib/python3.7/dist-packages/statsmodels/graphics/tsaplots.py:353: FutureWarning: The default method 'yw' can produce PACF values outside of the [-1,1] interval. After 0.13, the default will change tounadjusted Yule-Walker ('ywm'). You can use this method now by setting method='ywm'.\n",
            "  FutureWarning,\n"
          ]
        },
        {
          "output_type": "execute_result",
          "data": {
            "image/png": "[encoded data removed]",
            "text/plain": [
              "<Figure size 432x288 with 1 Axes>"
            ]
          },
          "metadata": {},
          "execution_count": 31
        },
        {
          "output_type": "display_data",
          "data": {
            "image/png": "[encoded data removed]",
            "text/plain": [
              "<Figure size 432x288 with 1 Axes>"
            ]
          },
          "metadata": {
            "needs_background": "light"
          }
        }
      ]
    },
    {
      "cell_type": "markdown",
      "source": [
        "## Ljung-Box Test\n",
        "\n",
        "To use theLjung Box test, we first need run a regression and collect the\n",
        "residuals. We then implement the Ljung-Box test.\n",
        "\n",
        "We will run our model defined in AIC section above ARMA(10,11). "
      ],
      "metadata": {
        "id": "A_IjtJQS3k_Y"
      }
    },
    {
      "cell_type": "code",
      "source": [
        "res = ARIMA(df['Index'],order=(10,0,11)).fit()"
      ],
      "metadata": {
        "id": "TWkzlbkhAk0E"
      },
      "execution_count": null,
      "outputs": []
    },
    {
      "cell_type": "code",
      "source": [
        "res.summary()\n"
      ],
      "metadata": {
        "colab": {
          "base_uri": "https://localhost:8080/",
          "height": 860
        },
        "id": "R_cY1_LVA3vm",
        "outputId": "826e9b50-8893-4b32-d312-26a56b1598f0"
      },
      "execution_count": null,
      "outputs": [
        {
          "output_type": "execute_result",
          "data": {
            "text/html": [
              "<table class=\"simpletable\">\n",
              "<caption>SARIMAX Results</caption>\n",
              "<tr>\n",
              "  <th>Dep. Variable:</th>         <td>Index</td>      <th>  No. Observations:  </th>   <td>1128</td>   \n",
              "</tr>\n",
              "<tr>\n",
              "  <th>Model:</th>           <td>ARIMA(10, 0, 11)</td> <th>  Log Likelihood     </th> <td>-5647.406</td>\n",
              "</tr>\n",
              "<tr>\n",
              "  <th>Date:</th>            <td>Wed, 29 Dec 2021</td> <th>  AIC                </th> <td>11340.812</td>\n",
              "</tr>\n",
              "<tr>\n",
              "  <th>Time:</th>                <td>07:07:11</td>     <th>  BIC                </th> <td>11456.461</td>\n",
              "</tr>\n",
              "<tr>\n",
              "  <th>Sample:</th>                  <td>0</td>        <th>  HQIC               </th> <td>11384.509</td>\n",
              "</tr>\n",
              "<tr>\n",
              "  <th></th>                      <td> - 1128</td>     <th>                     </th>     <td> </td>    \n",
              "</tr>\n",
              "<tr>\n",
              "  <th>Covariance Type:</th>        <td>opg</td>       <th>                     </th>     <td> </td>    \n",
              "</tr>\n",
              "</table>\n",
              "<table class=\"simpletable\">\n",
              "<tr>\n",
              "     <td></td>       <th>coef</th>     <th>std err</th>      <th>z</th>      <th>P>|z|</th>  <th>[0.025</th>    <th>0.975]</th>  \n",
              "</tr>\n",
              "<tr>\n",
              "  <th>const</th>  <td>  486.8684</td> <td>    0.001</td> <td> 3.48e+05</td> <td> 0.000</td> <td>  486.866</td> <td>  486.871</td>\n",
              "</tr>\n",
              "<tr>\n",
              "  <th>ar.L1</th>  <td>    0.1237</td> <td>    0.052</td> <td>    2.401</td> <td> 0.016</td> <td>    0.023</td> <td>    0.225</td>\n",
              "</tr>\n",
              "<tr>\n",
              "  <th>ar.L2</th>  <td>    0.3177</td> <td>    0.042</td> <td>    7.607</td> <td> 0.000</td> <td>    0.236</td> <td>    0.400</td>\n",
              "</tr>\n",
              "<tr>\n",
              "  <th>ar.L3</th>  <td>   -0.6905</td> <td>    0.059</td> <td>  -11.626</td> <td> 0.000</td> <td>   -0.807</td> <td>   -0.574</td>\n",
              "</tr>\n",
              "<tr>\n",
              "  <th>ar.L4</th>  <td>   -0.1282</td> <td>    0.051</td> <td>   -2.539</td> <td> 0.011</td> <td>   -0.227</td> <td>   -0.029</td>\n",
              "</tr>\n",
              "<tr>\n",
              "  <th>ar.L5</th>  <td>    0.0099</td> <td>    0.044</td> <td>    0.223</td> <td> 0.823</td> <td>   -0.077</td> <td>    0.096</td>\n",
              "</tr>\n",
              "<tr>\n",
              "  <th>ar.L6</th>  <td>    0.0891</td> <td>    0.054</td> <td>    1.645</td> <td> 0.100</td> <td>   -0.017</td> <td>    0.195</td>\n",
              "</tr>\n",
              "<tr>\n",
              "  <th>ar.L7</th>  <td>    0.7965</td> <td>    0.044</td> <td>   18.232</td> <td> 0.000</td> <td>    0.711</td> <td>    0.882</td>\n",
              "</tr>\n",
              "<tr>\n",
              "  <th>ar.L8</th>  <td>   -0.1699</td> <td>    0.061</td> <td>   -2.764</td> <td> 0.006</td> <td>   -0.290</td> <td>   -0.049</td>\n",
              "</tr>\n",
              "<tr>\n",
              "  <th>ar.L9</th>  <td>   -0.1010</td> <td>    0.040</td> <td>   -2.501</td> <td> 0.012</td> <td>   -0.180</td> <td>   -0.022</td>\n",
              "</tr>\n",
              "<tr>\n",
              "  <th>ar.L10</th> <td>    0.7523</td> <td>    0.046</td> <td>   16.313</td> <td> 0.000</td> <td>    0.662</td> <td>    0.843</td>\n",
              "</tr>\n",
              "<tr>\n",
              "  <th>ma.L1</th>  <td>    0.9439</td> <td>    0.057</td> <td>   16.456</td> <td> 0.000</td> <td>    0.831</td> <td>    1.056</td>\n",
              "</tr>\n",
              "<tr>\n",
              "  <th>ma.L2</th>  <td>    0.4803</td> <td>    0.075</td> <td>    6.371</td> <td> 0.000</td> <td>    0.333</td> <td>    0.628</td>\n",
              "</tr>\n",
              "<tr>\n",
              "  <th>ma.L3</th>  <td>    1.2464</td> <td>    0.066</td> <td>   18.874</td> <td> 0.000</td> <td>    1.117</td> <td>    1.376</td>\n",
              "</tr>\n",
              "<tr>\n",
              "  <th>ma.L4</th>  <td>    1.4771</td> <td>    0.050</td> <td>   29.491</td> <td> 0.000</td> <td>    1.379</td> <td>    1.575</td>\n",
              "</tr>\n",
              "<tr>\n",
              "  <th>ma.L5</th>  <td>    1.3923</td> <td>    0.070</td> <td>   20.007</td> <td> 0.000</td> <td>    1.256</td> <td>    1.529</td>\n",
              "</tr>\n",
              "<tr>\n",
              "  <th>ma.L6</th>  <td>    1.2583</td> <td>    0.083</td> <td>   15.241</td> <td> 0.000</td> <td>    1.097</td> <td>    1.420</td>\n",
              "</tr>\n",
              "<tr>\n",
              "  <th>ma.L7</th>  <td>    0.6076</td> <td>    0.076</td> <td>    7.954</td> <td> 0.000</td> <td>    0.458</td> <td>    0.757</td>\n",
              "</tr>\n",
              "<tr>\n",
              "  <th>ma.L8</th>  <td>    0.7715</td> <td>    0.053</td> <td>   14.486</td> <td> 0.000</td> <td>    0.667</td> <td>    0.876</td>\n",
              "</tr>\n",
              "<tr>\n",
              "  <th>ma.L9</th>  <td>    0.8118</td> <td>    0.034</td> <td>   23.910</td> <td> 0.000</td> <td>    0.745</td> <td>    0.878</td>\n",
              "</tr>\n",
              "<tr>\n",
              "  <th>ma.L10</th> <td>    0.1264</td> <td>    0.033</td> <td>    3.814</td> <td> 0.000</td> <td>    0.061</td> <td>    0.191</td>\n",
              "</tr>\n",
              "<tr>\n",
              "  <th>ma.L11</th> <td>    0.1089</td> <td>    0.023</td> <td>    4.669</td> <td> 0.000</td> <td>    0.063</td> <td>    0.155</td>\n",
              "</tr>\n",
              "<tr>\n",
              "  <th>sigma2</th> <td> 1343.4589</td> <td>   25.254</td> <td>   53.198</td> <td> 0.000</td> <td> 1293.962</td> <td> 1392.956</td>\n",
              "</tr>\n",
              "</table>\n",
              "<table class=\"simpletable\">\n",
              "<tr>\n",
              "  <th>Ljung-Box (L1) (Q):</th>      <td>0.00</td>   <th>  Jarque-Bera (JB):  </th> <td>15494.90</td>\n",
              "</tr>\n",
              "<tr>\n",
              "  <th>Prob(Q):</th>                 <td>0.95</td>   <th>  Prob(JB):          </th>   <td>0.00</td>  \n",
              "</tr>\n",
              "<tr>\n",
              "  <th>Heteroskedasticity (H):</th> <td>2633.28</td> <th>  Skew:              </th>   <td>-0.07</td> \n",
              "</tr>\n",
              "<tr>\n",
              "  <th>Prob(H) (two-sided):</th>     <td>0.00</td>   <th>  Kurtosis:          </th>   <td>21.16</td> \n",
              "</tr>\n",
              "</table><br/><br/>Warnings:<br/>[1] Covariance matrix calculated using the outer product of gradients (complex-step).<br/>[2] Covariance matrix is singular or near-singular, with condition number 2.07e+20. Standard errors may be unstable."
            ],
            "text/plain": [
              "<class 'statsmodels.iolib.summary.Summary'>\n",
              "\"\"\"\n",
              "                               SARIMAX Results                                \n",
              "==============================================================================\n",
              "Dep. Variable:                  Index   No. Observations:                 1128\n",
              "Model:               ARIMA(10, 0, 11)   Log Likelihood               -5647.406\n",
              "Date:                Wed, 29 Dec 2021   AIC                          11340.812\n",
              "Time:                        07:07:11   BIC                          11456.461\n",
              "Sample:                             0   HQIC                         11384.509\n",
              "                               - 1128                                         \n",
              "Covariance Type:                  opg                                         \n",
              "==============================================================================\n",
              "                 coef    std err          z      P>|z|      [0.025      0.975]\n",
              "------------------------------------------------------------------------------\n",
              "const        486.8684      0.001   3.48e+05      0.000     486.866     486.871\n",
              "ar.L1          0.1237      0.052      2.401      0.016       0.023       0.225\n",
              "ar.L2          0.3177      0.042      7.607      0.000       0.236       0.400\n",
              "ar.L3         -0.6905      0.059    -11.626      0.000      -0.807      -0.574\n",
              "ar.L4         -0.1282      0.051     -2.539      0.011      -0.227      -0.029\n",
              "ar.L5          0.0099      0.044      0.223      0.823      -0.077       0.096\n",
              "ar.L6          0.0891      0.054      1.645      0.100      -0.017       0.195\n",
              "ar.L7          0.7965      0.044     18.232      0.000       0.711       0.882\n",
              "ar.L8         -0.1699      0.061     -2.764      0.006      -0.290      -0.049\n",
              "ar.L9         -0.1010      0.040     -2.501      0.012      -0.180      -0.022\n",
              "ar.L10         0.7523      0.046     16.313      0.000       0.662       0.843\n",
              "ma.L1          0.9439      0.057     16.456      0.000       0.831       1.056\n",
              "ma.L2          0.4803      0.075      6.371      0.000       0.333       0.628\n",
              "ma.L3          1.2464      0.066     18.874      0.000       1.117       1.376\n",
              "ma.L4          1.4771      0.050     29.491      0.000       1.379       1.575\n",
              "ma.L5          1.3923      0.070     20.007      0.000       1.256       1.529\n",
              "ma.L6          1.2583      0.083     15.241      0.000       1.097       1.420\n",
              "ma.L7          0.6076      0.076      7.954      0.000       0.458       0.757\n",
              "ma.L8          0.7715      0.053     14.486      0.000       0.667       0.876\n",
              "ma.L9          0.8118      0.034     23.910      0.000       0.745       0.878\n",
              "ma.L10         0.1264      0.033      3.814      0.000       0.061       0.191\n",
              "ma.L11         0.1089      0.023      4.669      0.000       0.063       0.155\n",
              "sigma2      1343.4589     25.254     53.198      0.000    1293.962    1392.956\n",
              "===================================================================================\n",
              "Ljung-Box (L1) (Q):                   0.00   Jarque-Bera (JB):             15494.90\n",
              "Prob(Q):                              0.95   Prob(JB):                         0.00\n",
              "Heteroskedasticity (H):            2633.28   Skew:                            -0.07\n",
              "Prob(H) (two-sided):                  0.00   Kurtosis:                        21.16\n",
              "===================================================================================\n",
              "\n",
              "Warnings:\n",
              "[1] Covariance matrix calculated using the outer product of gradients (complex-step).\n",
              "[2] Covariance matrix is singular or near-singular, with condition number 2.07e+20. Standard errors may be unstable.\n",
              "\"\"\""
            ]
          },
          "metadata": {},
          "execution_count": 34
        }
      ]
    },
    {
      "cell_type": "markdown",
      "source": [
        "We now implement the Ljung Box Test."
      ],
      "metadata": {
        "id": "sMyAoG0r4DCp"
      }
    },
    {
      "cell_type": "code",
      "source": [
        "sm.stats.acorr_ljungbox(res.resid, lags=[12], return_df=True)"
      ],
      "metadata": {
        "colab": {
          "base_uri": "https://localhost:8080/",
          "height": 80
        },
        "id": "KFRNbDvCAQnr",
        "outputId": "8353d319-35a2-4fef-bddf-19d4baf253d5"
      },
      "execution_count": null,
      "outputs": [
        {
          "output_type": "execute_result",
          "data": {
            "text/html": [
              "\n",
              "  <div id=\"df-4cdac374-a1f4-4431-9e47-64a7c471fa47\">\n",
              "    <div class=\"colab-df-container\">\n",
              "      <div>\n",
              "<style scoped>\n",
              "    .dataframe tbody tr th:only-of-type {\n",
              "        vertical-align: middle;\n",
              "    }\n",
              "\n",
              "    .dataframe tbody tr th {\n",
              "        vertical-align: top;\n",
              "    }\n",
              "\n",
              "    .dataframe thead th {\n",
              "        text-align: right;\n",
              "    }\n",
              "</style>\n",
              "<table border=\"1\" class=\"dataframe\">\n",
              "  <thead>\n",
              "    <tr style=\"text-align: right;\">\n",
              "      <th></th>\n",
              "      <th>lb_stat</th>\n",
              "      <th>lb_pvalue</th>\n",
              "    </tr>\n",
              "  </thead>\n",
              "  <tbody>\n",
              "    <tr>\n",
              "      <th>12</th>\n",
              "      <td>9.617836</td>\n",
              "      <td>0.649448</td>\n",
              "    </tr>\n",
              "  </tbody>\n",
              "</table>\n",
              "</div>\n",
              "      <button class=\"colab-df-convert\" onclick=\"convertToInteractive('df-4cdac374-a1f4-4431-9e47-64a7c471fa47')\"\n",
              "              title=\"Convert this dataframe to an interactive table.\"\n",
              "              style=\"display:none;\">\n",
              "        \n",
              "  <svg xmlns=\"http://www.w3.org/2000/svg\" height=\"24px\"viewBox=\"0 0 24 24\"\n",
              "       width=\"24px\">\n",
              "    <path d=\"M0 0h24v24H0V0z\" fill=\"none\"/>\n",
              "    <path d=\"M18.56 5.44l.94 2.06.94-2.06 2.06-.94-2.06-.94-.94-2.06-.94 2.06-2.06.94zm-11 1L8.5 8.5l.94-2.06 2.06-.94-2.06-.94L8.5 2.5l-.94 2.06-2.06.94zm10 10l.94 2.06.94-2.06 2.06-.94-2.06-.94-.94-2.06-.94 2.06-2.06.94z\"/><path d=\"M17.41 7.96l-1.37-1.37c-.4-.4-.92-.59-1.43-.59-.52 0-1.04.2-1.43.59L10.3 9.45l-7.72 7.72c-.78.78-.78 2.05 0 2.83L4 21.41c.39.39.9.59 1.41.59.51 0 1.02-.2 1.41-.59l7.78-7.78 2.81-2.81c.8-.78.8-2.07 0-2.86zM5.41 20L4 18.59l7.72-7.72 1.47 1.35L5.41 20z\"/>\n",
              "  </svg>\n",
              "      </button>\n",
              "      \n",
              "  <style>\n",
              "    .colab-df-container {\n",
              "      display:flex;\n",
              "      flex-wrap:wrap;\n",
              "      gap: 12px;\n",
              "    }\n",
              "\n",
              "    .colab-df-convert {\n",
              "      background-color: #E8F0FE;\n",
              "      border: none;\n",
              "      border-radius: 50%;\n",
              "      cursor: pointer;\n",
              "      display: none;\n",
              "      fill: #1967D2;\n",
              "      height: 32px;\n",
              "      padding: 0 0 0 0;\n",
              "      width: 32px;\n",
              "    }\n",
              "\n",
              "    .colab-df-convert:hover {\n",
              "      background-color: #E2EBFA;\n",
              "      box-shadow: 0px 1px 2px rgba(60, 64, 67, 0.3), 0px 1px 3px 1px rgba(60, 64, 67, 0.15);\n",
              "      fill: #174EA6;\n",
              "    }\n",
              "\n",
              "    [theme=dark] .colab-df-convert {\n",
              "      background-color: #3B4455;\n",
              "      fill: #D2E3FC;\n",
              "    }\n",
              "\n",
              "    [theme=dark] .colab-df-convert:hover {\n",
              "      background-color: #434B5C;\n",
              "      box-shadow: 0px 1px 3px 1px rgba(0, 0, 0, 0.15);\n",
              "      filter: drop-shadow(0px 1px 2px rgba(0, 0, 0, 0.3));\n",
              "      fill: #FFFFFF;\n",
              "    }\n",
              "  </style>\n",
              "\n",
              "      <script>\n",
              "        const buttonEl =\n",
              "          document.querySelector('#df-4cdac374-a1f4-4431-9e47-64a7c471fa47 button.colab-df-convert');\n",
              "        buttonEl.style.display =\n",
              "          google.colab.kernel.accessAllowed ? 'block' : 'none';\n",
              "\n",
              "        async function convertToInteractive(key) {\n",
              "          const element = document.querySelector('#df-4cdac374-a1f4-4431-9e47-64a7c471fa47');\n",
              "          const dataTable =\n",
              "            await google.colab.kernel.invokeFunction('convertToInteractive',\n",
              "                                                     [key], {});\n",
              "          if (!dataTable) return;\n",
              "\n",
              "          const docLinkHtml = 'Like what you see? Visit the ' +\n",
              "            '<a target=\"_blank\" href=https://colab.research.google.com/notebooks/data_table.ipynb>data table notebook</a>'\n",
              "            + ' to learn more about interactive tables.';\n",
              "          element.innerHTML = '';\n",
              "          dataTable['output_type'] = 'display_data';\n",
              "          await google.colab.output.renderOutput(dataTable, element);\n",
              "          const docLink = document.createElement('div');\n",
              "          docLink.innerHTML = docLinkHtml;\n",
              "          element.appendChild(docLink);\n",
              "        }\n",
              "      </script>\n",
              "    </div>\n",
              "  </div>\n",
              "  "
            ],
            "text/plain": [
              "     lb_stat  lb_pvalue\n",
              "12  9.617836   0.649448"
            ]
          },
          "metadata": {},
          "execution_count": 37
        }
      ]
    },
    {
      "cell_type": "markdown",
      "source": [
        "## Augmented Dickey Fuler Test\n",
        "\n",
        "It is simple to implement the ADF test in python using Statsmodels. After importing the necessary package, we define a function that follows the procedure defined below:\n",
        "1. Run ADF test with lag selection that minimizes AIC\n",
        "2. Return the follwing:\n",
        "  * Test Statistic\n",
        "  * P-Value\n",
        "  * Number of Lags Selected\n",
        "  * Number of Observations\n",
        "  "
      ],
      "metadata": {
        "id": "pYVt9w_X4Krx"
      }
    },
    {
      "cell_type": "code",
      "source": [
        "from statsmodels.tsa.stattools import adfuller\n",
        "\n",
        "\n",
        "def adf_test(timeseries):\n",
        "    print(\"Results of Dickey-Fuller Test:\")\n",
        "    dftest = adfuller(timeseries, autolag=\"AIC\")\n",
        "    dfoutput = pd.Series(\n",
        "        dftest[0:4],\n",
        "        index=[\n",
        "            \"Test Statistic\",\n",
        "            \"p-value\",\n",
        "            \"#Lags Used\",\n",
        "            \"Number of Observations Used\",\n",
        "        ],\n",
        "    )\n",
        "    for key, value in dftest[4].items():\n",
        "        dfoutput[\"Critical Value (%s)\" % key] = value\n",
        "    print(dfoutput)"
      ],
      "metadata": {
        "id": "5J7EPVAJBCzl"
      },
      "execution_count": null,
      "outputs": []
    },
    {
      "cell_type": "code",
      "source": [
        "adf_test(df['Index'])"
      ],
      "metadata": {
        "colab": {
          "base_uri": "https://localhost:8080/"
        },
        "id": "H0fY80iVBjAB",
        "outputId": "e7e4a4fa-61f3-40a1-9ef8-641d63381eea"
      },
      "execution_count": null,
      "outputs": [
        {
          "output_type": "stream",
          "name": "stdout",
          "text": [
            "Results of Dickey-Fuller Test:\n",
            "Test Statistic                    4.364641\n",
            "p-value                           1.000000\n",
            "#Lags Used                       22.000000\n",
            "Number of Observations Used    1105.000000\n",
            "Critical Value (1%)              -3.436282\n",
            "Critical Value (5%)              -2.864159\n",
            "Critical Value (10%)             -2.568165\n",
            "dtype: float64\n"
          ]
        }
      ]
    },
    {
      "cell_type": "markdown",
      "source": [
        "## Lasso Regression"
      ],
      "metadata": {
        "id": "GstLCi7Z5OKI"
      }
    },
    {
      "cell_type": "markdown",
      "source": [
        "We import the necessary packages"
      ],
      "metadata": {
        "id": "PusY_joz56DN"
      }
    },
    {
      "cell_type": "code",
      "source": [
        "from sklearn.model_selection import cross_val_score\n",
        "from sklearn.model_selection import RepeatedKFold\n",
        "from sklearn.linear_model import Lasso\n",
        "from sklearn.linear_model import LassoCV\n"
      ],
      "metadata": {
        "id": "xGFPJxybBmiH"
      },
      "execution_count": 5,
      "outputs": []
    },
    {
      "cell_type": "markdown",
      "source": [
        "### Lasso with $\\alpha=1$"
      ],
      "metadata": {
        "id": "7DNYAPq47Djo"
      }
    },
    {
      "cell_type": "code",
      "source": [
        "df"
      ],
      "metadata": {
        "colab": {
          "base_uri": "https://localhost:8080/",
          "height": 455
        },
        "id": "2sDTPqHR7Hgc",
        "outputId": "877dd527-dfa0-4d6f-edc9-69087c2154b1"
      },
      "execution_count": 13,
      "outputs": [
        {
          "output_type": "execute_result",
          "data": {
            "text/html": [
              "\n",
              "  <div id=\"df-ce73909d-e971-4640-a438-f527cbb431d9\">\n",
              "    <div class=\"colab-df-container\">\n",
              "      <div>\n",
              "<style scoped>\n",
              "    .dataframe tbody tr th:only-of-type {\n",
              "        vertical-align: middle;\n",
              "    }\n",
              "\n",
              "    .dataframe tbody tr th {\n",
              "        vertical-align: top;\n",
              "    }\n",
              "\n",
              "    .dataframe thead th {\n",
              "        text-align: right;\n",
              "    }\n",
              "</style>\n",
              "<table border=\"1\" class=\"dataframe\">\n",
              "  <thead>\n",
              "    <tr style=\"text-align: right;\">\n",
              "      <th></th>\n",
              "      <th>Index</th>\n",
              "      <th>D12</th>\n",
              "      <th>E12</th>\n",
              "      <th>b/m</th>\n",
              "      <th>tbl</th>\n",
              "      <th>AAA</th>\n",
              "      <th>BAA</th>\n",
              "      <th>lty</th>\n",
              "      <th>ntis</th>\n",
              "      <th>Rfree</th>\n",
              "      <th>infl</th>\n",
              "      <th>ltr</th>\n",
              "      <th>corpr</th>\n",
              "      <th>svar</th>\n",
              "      <th>csp</th>\n",
              "      <th>CRSP_SPvw</th>\n",
              "      <th>CRSP_SPvwx</th>\n",
              "    </tr>\n",
              "    <tr>\n",
              "      <th>yyyymm</th>\n",
              "      <th></th>\n",
              "      <th></th>\n",
              "      <th></th>\n",
              "      <th></th>\n",
              "      <th></th>\n",
              "      <th></th>\n",
              "      <th></th>\n",
              "      <th></th>\n",
              "      <th></th>\n",
              "      <th></th>\n",
              "      <th></th>\n",
              "      <th></th>\n",
              "      <th></th>\n",
              "      <th></th>\n",
              "      <th></th>\n",
              "      <th></th>\n",
              "      <th></th>\n",
              "    </tr>\n",
              "  </thead>\n",
              "  <tbody>\n",
              "    <tr>\n",
              "      <th>1927-01-01</th>\n",
              "      <td>13.21</td>\n",
              "      <td>0.696700</td>\n",
              "      <td>1.229000</td>\n",
              "      <td>0.443706</td>\n",
              "      <td>0.0323</td>\n",
              "      <td>0.0466</td>\n",
              "      <td>0.0561</td>\n",
              "      <td>0.0351</td>\n",
              "      <td>0.050824</td>\n",
              "      <td>0.0025</td>\n",
              "      <td>-0.011299</td>\n",
              "      <td>0.0075</td>\n",
              "      <td>0.0056</td>\n",
              "      <td>0.000470</td>\n",
              "      <td>NaN</td>\n",
              "      <td>-0.002910</td>\n",
              "      <td>-0.005579</td>\n",
              "    </tr>\n",
              "    <tr>\n",
              "      <th>1927-02-01</th>\n",
              "      <td>13.84</td>\n",
              "      <td>0.703300</td>\n",
              "      <td>1.218000</td>\n",
              "      <td>0.428501</td>\n",
              "      <td>0.0329</td>\n",
              "      <td>0.0467</td>\n",
              "      <td>0.0559</td>\n",
              "      <td>0.0347</td>\n",
              "      <td>0.051668</td>\n",
              "      <td>0.0026</td>\n",
              "      <td>-0.005714</td>\n",
              "      <td>0.0088</td>\n",
              "      <td>0.0069</td>\n",
              "      <td>0.000287</td>\n",
              "      <td>NaN</td>\n",
              "      <td>0.045522</td>\n",
              "      <td>0.040566</td>\n",
              "    </tr>\n",
              "    <tr>\n",
              "      <th>1927-03-01</th>\n",
              "      <td>13.93</td>\n",
              "      <td>0.710000</td>\n",
              "      <td>1.208000</td>\n",
              "      <td>0.469765</td>\n",
              "      <td>0.0320</td>\n",
              "      <td>0.0462</td>\n",
              "      <td>0.0554</td>\n",
              "      <td>0.0331</td>\n",
              "      <td>0.046357</td>\n",
              "      <td>0.0030</td>\n",
              "      <td>-0.005747</td>\n",
              "      <td>0.0253</td>\n",
              "      <td>0.0083</td>\n",
              "      <td>0.000924</td>\n",
              "      <td>NaN</td>\n",
              "      <td>0.007324</td>\n",
              "      <td>0.002610</td>\n",
              "    </tr>\n",
              "    <tr>\n",
              "      <th>1927-04-01</th>\n",
              "      <td>14.17</td>\n",
              "      <td>0.716700</td>\n",
              "      <td>1.197000</td>\n",
              "      <td>0.456754</td>\n",
              "      <td>0.0339</td>\n",
              "      <td>0.0458</td>\n",
              "      <td>0.0548</td>\n",
              "      <td>0.0333</td>\n",
              "      <td>0.050514</td>\n",
              "      <td>0.0025</td>\n",
              "      <td>0.000000</td>\n",
              "      <td>-0.0005</td>\n",
              "      <td>0.0055</td>\n",
              "      <td>0.000603</td>\n",
              "      <td>NaN</td>\n",
              "      <td>0.013021</td>\n",
              "      <td>0.010907</td>\n",
              "    </tr>\n",
              "    <tr>\n",
              "      <th>1927-05-01</th>\n",
              "      <td>14.91</td>\n",
              "      <td>0.723300</td>\n",
              "      <td>1.186000</td>\n",
              "      <td>0.434783</td>\n",
              "      <td>0.0333</td>\n",
              "      <td>0.0457</td>\n",
              "      <td>0.0550</td>\n",
              "      <td>0.0327</td>\n",
              "      <td>0.055275</td>\n",
              "      <td>0.0030</td>\n",
              "      <td>0.005780</td>\n",
              "      <td>0.0109</td>\n",
              "      <td>-0.0011</td>\n",
              "      <td>0.000392</td>\n",
              "      <td>NaN</td>\n",
              "      <td>0.062353</td>\n",
              "      <td>0.057096</td>\n",
              "    </tr>\n",
              "    <tr>\n",
              "      <th>...</th>\n",
              "      <td>...</td>\n",
              "      <td>...</td>\n",
              "      <td>...</td>\n",
              "      <td>...</td>\n",
              "      <td>...</td>\n",
              "      <td>...</td>\n",
              "      <td>...</td>\n",
              "      <td>...</td>\n",
              "      <td>...</td>\n",
              "      <td>...</td>\n",
              "      <td>...</td>\n",
              "      <td>...</td>\n",
              "      <td>...</td>\n",
              "      <td>...</td>\n",
              "      <td>...</td>\n",
              "      <td>...</td>\n",
              "      <td>...</td>\n",
              "    </tr>\n",
              "    <tr>\n",
              "      <th>2020-08-01</th>\n",
              "      <td>3500.31</td>\n",
              "      <td>59.128628</td>\n",
              "      <td>98.556667</td>\n",
              "      <td>0.235975</td>\n",
              "      <td>0.0010</td>\n",
              "      <td>0.0225</td>\n",
              "      <td>0.0327</td>\n",
              "      <td>0.0065</td>\n",
              "      <td>-0.008504</td>\n",
              "      <td>0.0001</td>\n",
              "      <td>0.003153</td>\n",
              "      <td>-0.0349</td>\n",
              "      <td>-0.0488</td>\n",
              "      <td>0.000743</td>\n",
              "      <td>NaN</td>\n",
              "      <td>0.072068</td>\n",
              "      <td>0.070308</td>\n",
              "    </tr>\n",
              "    <tr>\n",
              "      <th>2020-09-01</th>\n",
              "      <td>3363.00</td>\n",
              "      <td>58.851237</td>\n",
              "      <td>98.220000</td>\n",
              "      <td>0.241482</td>\n",
              "      <td>0.0011</td>\n",
              "      <td>0.0231</td>\n",
              "      <td>0.0336</td>\n",
              "      <td>0.0068</td>\n",
              "      <td>-0.005698</td>\n",
              "      <td>0.0001</td>\n",
              "      <td>0.001393</td>\n",
              "      <td>0.0080</td>\n",
              "      <td>0.0041</td>\n",
              "      <td>0.004907</td>\n",
              "      <td>NaN</td>\n",
              "      <td>-0.038151</td>\n",
              "      <td>-0.039366</td>\n",
              "    </tr>\n",
              "    <tr>\n",
              "      <th>2020-10-01</th>\n",
              "      <td>3269.96</td>\n",
              "      <td>58.660440</td>\n",
              "      <td>96.856667</td>\n",
              "      <td>0.253146</td>\n",
              "      <td>0.0010</td>\n",
              "      <td>0.0235</td>\n",
              "      <td>0.0344</td>\n",
              "      <td>0.0079</td>\n",
              "      <td>-0.001895</td>\n",
              "      <td>0.0001</td>\n",
              "      <td>0.000415</td>\n",
              "      <td>-0.0238</td>\n",
              "      <td>-0.0190</td>\n",
              "      <td>0.003661</td>\n",
              "      <td>NaN</td>\n",
              "      <td>-0.026409</td>\n",
              "      <td>-0.027507</td>\n",
              "    </tr>\n",
              "    <tr>\n",
              "      <th>2020-11-01</th>\n",
              "      <td>3621.63</td>\n",
              "      <td>58.469643</td>\n",
              "      <td>95.493333</td>\n",
              "      <td>0.226352</td>\n",
              "      <td>0.0009</td>\n",
              "      <td>0.0230</td>\n",
              "      <td>0.0330</td>\n",
              "      <td>0.0087</td>\n",
              "      <td>-0.005262</td>\n",
              "      <td>0.0001</td>\n",
              "      <td>-0.000611</td>\n",
              "      <td>0.0093</td>\n",
              "      <td>0.0509</td>\n",
              "      <td>0.002492</td>\n",
              "      <td>NaN</td>\n",
              "      <td>0.109403</td>\n",
              "      <td>0.107623</td>\n",
              "    </tr>\n",
              "    <tr>\n",
              "      <th>2020-12-01</th>\n",
              "      <td>3756.07</td>\n",
              "      <td>58.278846</td>\n",
              "      <td>94.130000</td>\n",
              "      <td>0.219195</td>\n",
              "      <td>0.0009</td>\n",
              "      <td>0.0226</td>\n",
              "      <td>0.0316</td>\n",
              "      <td>0.0093</td>\n",
              "      <td>-0.000094</td>\n",
              "      <td>0.0001</td>\n",
              "      <td>0.000941</td>\n",
              "      <td>-0.0115</td>\n",
              "      <td>0.0000</td>\n",
              "      <td>0.000678</td>\n",
              "      <td>NaN</td>\n",
              "      <td>0.041573</td>\n",
              "      <td>0.040138</td>\n",
              "    </tr>\n",
              "  </tbody>\n",
              "</table>\n",
              "<p>1128 rows × 17 columns</p>\n",
              "</div>\n",
              "      <button class=\"colab-df-convert\" onclick=\"convertToInteractive('df-ce73909d-e971-4640-a438-f527cbb431d9')\"\n",
              "              title=\"Convert this dataframe to an interactive table.\"\n",
              "              style=\"display:none;\">\n",
              "        \n",
              "  <svg xmlns=\"http://www.w3.org/2000/svg\" height=\"24px\"viewBox=\"0 0 24 24\"\n",
              "       width=\"24px\">\n",
              "    <path d=\"M0 0h24v24H0V0z\" fill=\"none\"/>\n",
              "    <path d=\"M18.56 5.44l.94 2.06.94-2.06 2.06-.94-2.06-.94-.94-2.06-.94 2.06-2.06.94zm-11 1L8.5 8.5l.94-2.06 2.06-.94-2.06-.94L8.5 2.5l-.94 2.06-2.06.94zm10 10l.94 2.06.94-2.06 2.06-.94-2.06-.94-.94-2.06-.94 2.06-2.06.94z\"/><path d=\"M17.41 7.96l-1.37-1.37c-.4-.4-.92-.59-1.43-.59-.52 0-1.04.2-1.43.59L10.3 9.45l-7.72 7.72c-.78.78-.78 2.05 0 2.83L4 21.41c.39.39.9.59 1.41.59.51 0 1.02-.2 1.41-.59l7.78-7.78 2.81-2.81c.8-.78.8-2.07 0-2.86zM5.41 20L4 18.59l7.72-7.72 1.47 1.35L5.41 20z\"/>\n",
              "  </svg>\n",
              "      </button>\n",
              "      \n",
              "  <style>\n",
              "    .colab-df-container {\n",
              "      display:flex;\n",
              "      flex-wrap:wrap;\n",
              "      gap: 12px;\n",
              "    }\n",
              "\n",
              "    .colab-df-convert {\n",
              "      background-color: #E8F0FE;\n",
              "      border: none;\n",
              "      border-radius: 50%;\n",
              "      cursor: pointer;\n",
              "      display: none;\n",
              "      fill: #1967D2;\n",
              "      height: 32px;\n",
              "      padding: 0 0 0 0;\n",
              "      width: 32px;\n",
              "    }\n",
              "\n",
              "    .colab-df-convert:hover {\n",
              "      background-color: #E2EBFA;\n",
              "      box-shadow: 0px 1px 2px rgba(60, 64, 67, 0.3), 0px 1px 3px 1px rgba(60, 64, 67, 0.15);\n",
              "      fill: #174EA6;\n",
              "    }\n",
              "\n",
              "    [theme=dark] .colab-df-convert {\n",
              "      background-color: #3B4455;\n",
              "      fill: #D2E3FC;\n",
              "    }\n",
              "\n",
              "    [theme=dark] .colab-df-convert:hover {\n",
              "      background-color: #434B5C;\n",
              "      box-shadow: 0px 1px 3px 1px rgba(0, 0, 0, 0.15);\n",
              "      filter: drop-shadow(0px 1px 2px rgba(0, 0, 0, 0.3));\n",
              "      fill: #FFFFFF;\n",
              "    }\n",
              "  </style>\n",
              "\n",
              "      <script>\n",
              "        const buttonEl =\n",
              "          document.querySelector('#df-ce73909d-e971-4640-a438-f527cbb431d9 button.colab-df-convert');\n",
              "        buttonEl.style.display =\n",
              "          google.colab.kernel.accessAllowed ? 'block' : 'none';\n",
              "\n",
              "        async function convertToInteractive(key) {\n",
              "          const element = document.querySelector('#df-ce73909d-e971-4640-a438-f527cbb431d9');\n",
              "          const dataTable =\n",
              "            await google.colab.kernel.invokeFunction('convertToInteractive',\n",
              "                                                     [key], {});\n",
              "          if (!dataTable) return;\n",
              "\n",
              "          const docLinkHtml = 'Like what you see? Visit the ' +\n",
              "            '<a target=\"_blank\" href=https://colab.research.google.com/notebooks/data_table.ipynb>data table notebook</a>'\n",
              "            + ' to learn more about interactive tables.';\n",
              "          element.innerHTML = '';\n",
              "          dataTable['output_type'] = 'display_data';\n",
              "          await google.colab.output.renderOutput(dataTable, element);\n",
              "          const docLink = document.createElement('div');\n",
              "          docLink.innerHTML = docLinkHtml;\n",
              "          element.appendChild(docLink);\n",
              "        }\n",
              "      </script>\n",
              "    </div>\n",
              "  </div>\n",
              "  "
            ],
            "text/plain": [
              "              Index        D12        E12  ...  csp  CRSP_SPvw  CRSP_SPvwx\n",
              "yyyymm                                     ...                            \n",
              "1927-01-01    13.21   0.696700   1.229000  ...  NaN  -0.002910   -0.005579\n",
              "1927-02-01    13.84   0.703300   1.218000  ...  NaN   0.045522    0.040566\n",
              "1927-03-01    13.93   0.710000   1.208000  ...  NaN   0.007324    0.002610\n",
              "1927-04-01    14.17   0.716700   1.197000  ...  NaN   0.013021    0.010907\n",
              "1927-05-01    14.91   0.723300   1.186000  ...  NaN   0.062353    0.057096\n",
              "...             ...        ...        ...  ...  ...        ...         ...\n",
              "2020-08-01  3500.31  59.128628  98.556667  ...  NaN   0.072068    0.070308\n",
              "2020-09-01  3363.00  58.851237  98.220000  ...  NaN  -0.038151   -0.039366\n",
              "2020-10-01  3269.96  58.660440  96.856667  ...  NaN  -0.026409   -0.027507\n",
              "2020-11-01  3621.63  58.469643  95.493333  ...  NaN   0.109403    0.107623\n",
              "2020-12-01  3756.07  58.278846  94.130000  ...  NaN   0.041573    0.040138\n",
              "\n",
              "[1128 rows x 17 columns]"
            ]
          },
          "metadata": {},
          "execution_count": 13
        }
      ]
    },
    {
      "cell_type": "code",
      "source": [
        "len(df)"
      ],
      "metadata": {
        "colab": {
          "base_uri": "https://localhost:8080/"
        },
        "id": "QTMK5axU7Jiq",
        "outputId": "96635424-5668-4972-bc03-3f965575648e"
      },
      "execution_count": 12,
      "outputs": [
        {
          "output_type": "execute_result",
          "data": {
            "text/plain": [
              "1128"
            ]
          },
          "metadata": {},
          "execution_count": 12
        }
      ]
    },
    {
      "cell_type": "markdown",
      "source": [
        "We have in total 1128 observations, we need to split our data set into Train and Test sets. Suppose we want to forecast the last 10 years. We will set the training set the first 84 years , and the test set to be last 10 years."
      ],
      "metadata": {
        "id": "8HzodpDW8s9q"
      }
    },
    {
      "cell_type": "code",
      "source": [
        ""
      ],
      "metadata": {
        "id": "X3S-pHJMC7Q3"
      },
      "execution_count": null,
      "outputs": []
    },
    {
      "cell_type": "code",
      "source": [
        "X_train = df.iloc[:1008,1:].drop(columns=['csp'])\n",
        "y_train = df.iloc[:1008,0]\n",
        "X_test = df.iloc[1008:,1:].drop(columns=['csp'])\n",
        "y_test = df.iloc[1008:,0]"
      ],
      "metadata": {
        "id": "JjWwEIbX7o8l"
      },
      "execution_count": 36,
      "outputs": []
    },
    {
      "cell_type": "code",
      "source": [
        "X_train"
      ],
      "metadata": {
        "colab": {
          "base_uri": "https://localhost:8080/",
          "height": 455
        },
        "id": "wY-AdQ0XDAlq",
        "outputId": "9412949d-5215-4001-c69c-6a61658ec589"
      },
      "execution_count": 37,
      "outputs": [
        {
          "output_type": "execute_result",
          "data": {
            "text/html": [
              "\n",
              "  <div id=\"df-dcc79436-53f6-44e3-bcc5-a32ff051a7ae\">\n",
              "    <div class=\"colab-df-container\">\n",
              "      <div>\n",
              "<style scoped>\n",
              "    .dataframe tbody tr th:only-of-type {\n",
              "        vertical-align: middle;\n",
              "    }\n",
              "\n",
              "    .dataframe tbody tr th {\n",
              "        vertical-align: top;\n",
              "    }\n",
              "\n",
              "    .dataframe thead th {\n",
              "        text-align: right;\n",
              "    }\n",
              "</style>\n",
              "<table border=\"1\" class=\"dataframe\">\n",
              "  <thead>\n",
              "    <tr style=\"text-align: right;\">\n",
              "      <th></th>\n",
              "      <th>D12</th>\n",
              "      <th>E12</th>\n",
              "      <th>b/m</th>\n",
              "      <th>tbl</th>\n",
              "      <th>AAA</th>\n",
              "      <th>BAA</th>\n",
              "      <th>lty</th>\n",
              "      <th>ntis</th>\n",
              "      <th>Rfree</th>\n",
              "      <th>infl</th>\n",
              "      <th>ltr</th>\n",
              "      <th>corpr</th>\n",
              "      <th>svar</th>\n",
              "      <th>CRSP_SPvw</th>\n",
              "      <th>CRSP_SPvwx</th>\n",
              "    </tr>\n",
              "    <tr>\n",
              "      <th>yyyymm</th>\n",
              "      <th></th>\n",
              "      <th></th>\n",
              "      <th></th>\n",
              "      <th></th>\n",
              "      <th></th>\n",
              "      <th></th>\n",
              "      <th></th>\n",
              "      <th></th>\n",
              "      <th></th>\n",
              "      <th></th>\n",
              "      <th></th>\n",
              "      <th></th>\n",
              "      <th></th>\n",
              "      <th></th>\n",
              "      <th></th>\n",
              "    </tr>\n",
              "  </thead>\n",
              "  <tbody>\n",
              "    <tr>\n",
              "      <th>1927-01-01</th>\n",
              "      <td>0.696700</td>\n",
              "      <td>1.229000</td>\n",
              "      <td>0.443706</td>\n",
              "      <td>0.0323</td>\n",
              "      <td>0.0466</td>\n",
              "      <td>0.0561</td>\n",
              "      <td>0.035100</td>\n",
              "      <td>0.050824</td>\n",
              "      <td>0.0025</td>\n",
              "      <td>-0.011299</td>\n",
              "      <td>0.007500</td>\n",
              "      <td>0.005600</td>\n",
              "      <td>0.000470</td>\n",
              "      <td>-0.002910</td>\n",
              "      <td>-0.005579</td>\n",
              "    </tr>\n",
              "    <tr>\n",
              "      <th>1927-02-01</th>\n",
              "      <td>0.703300</td>\n",
              "      <td>1.218000</td>\n",
              "      <td>0.428501</td>\n",
              "      <td>0.0329</td>\n",
              "      <td>0.0467</td>\n",
              "      <td>0.0559</td>\n",
              "      <td>0.034700</td>\n",
              "      <td>0.051668</td>\n",
              "      <td>0.0026</td>\n",
              "      <td>-0.005714</td>\n",
              "      <td>0.008800</td>\n",
              "      <td>0.006900</td>\n",
              "      <td>0.000287</td>\n",
              "      <td>0.045522</td>\n",
              "      <td>0.040566</td>\n",
              "    </tr>\n",
              "    <tr>\n",
              "      <th>1927-03-01</th>\n",
              "      <td>0.710000</td>\n",
              "      <td>1.208000</td>\n",
              "      <td>0.469765</td>\n",
              "      <td>0.0320</td>\n",
              "      <td>0.0462</td>\n",
              "      <td>0.0554</td>\n",
              "      <td>0.033100</td>\n",
              "      <td>0.046357</td>\n",
              "      <td>0.0030</td>\n",
              "      <td>-0.005747</td>\n",
              "      <td>0.025300</td>\n",
              "      <td>0.008300</td>\n",
              "      <td>0.000924</td>\n",
              "      <td>0.007324</td>\n",
              "      <td>0.002610</td>\n",
              "    </tr>\n",
              "    <tr>\n",
              "      <th>1927-04-01</th>\n",
              "      <td>0.716700</td>\n",
              "      <td>1.197000</td>\n",
              "      <td>0.456754</td>\n",
              "      <td>0.0339</td>\n",
              "      <td>0.0458</td>\n",
              "      <td>0.0548</td>\n",
              "      <td>0.033300</td>\n",
              "      <td>0.050514</td>\n",
              "      <td>0.0025</td>\n",
              "      <td>0.000000</td>\n",
              "      <td>-0.000500</td>\n",
              "      <td>0.005500</td>\n",
              "      <td>0.000603</td>\n",
              "      <td>0.013021</td>\n",
              "      <td>0.010907</td>\n",
              "    </tr>\n",
              "    <tr>\n",
              "      <th>1927-05-01</th>\n",
              "      <td>0.723300</td>\n",
              "      <td>1.186000</td>\n",
              "      <td>0.434783</td>\n",
              "      <td>0.0333</td>\n",
              "      <td>0.0457</td>\n",
              "      <td>0.0550</td>\n",
              "      <td>0.032700</td>\n",
              "      <td>0.055275</td>\n",
              "      <td>0.0030</td>\n",
              "      <td>0.005780</td>\n",
              "      <td>0.010900</td>\n",
              "      <td>-0.001100</td>\n",
              "      <td>0.000392</td>\n",
              "      <td>0.062353</td>\n",
              "      <td>0.057096</td>\n",
              "    </tr>\n",
              "    <tr>\n",
              "      <th>...</th>\n",
              "      <td>...</td>\n",
              "      <td>...</td>\n",
              "      <td>...</td>\n",
              "      <td>...</td>\n",
              "      <td>...</td>\n",
              "      <td>...</td>\n",
              "      <td>...</td>\n",
              "      <td>...</td>\n",
              "      <td>...</td>\n",
              "      <td>...</td>\n",
              "      <td>...</td>\n",
              "      <td>...</td>\n",
              "      <td>...</td>\n",
              "      <td>...</td>\n",
              "      <td>...</td>\n",
              "    </tr>\n",
              "    <tr>\n",
              "      <th>2010-08-01</th>\n",
              "      <td>22.247667</td>\n",
              "      <td>70.273333</td>\n",
              "      <td>0.413982</td>\n",
              "      <td>0.0016</td>\n",
              "      <td>0.0449</td>\n",
              "      <td>0.0566</td>\n",
              "      <td>0.032708</td>\n",
              "      <td>0.011218</td>\n",
              "      <td>0.0001</td>\n",
              "      <td>0.001381</td>\n",
              "      <td>0.070213</td>\n",
              "      <td>0.047319</td>\n",
              "      <td>0.002705</td>\n",
              "      <td>-0.045434</td>\n",
              "      <td>-0.047840</td>\n",
              "    </tr>\n",
              "    <tr>\n",
              "      <th>2010-09-01</th>\n",
              "      <td>22.353000</td>\n",
              "      <td>71.860000</td>\n",
              "      <td>0.384306</td>\n",
              "      <td>0.0015</td>\n",
              "      <td>0.0453</td>\n",
              "      <td>0.0566</td>\n",
              "      <td>0.034063</td>\n",
              "      <td>0.003338</td>\n",
              "      <td>0.0001</td>\n",
              "      <td>0.000582</td>\n",
              "      <td>-0.015330</td>\n",
              "      <td>-0.014395</td>\n",
              "      <td>0.002337</td>\n",
              "      <td>0.090383</td>\n",
              "      <td>0.088751</td>\n",
              "    </tr>\n",
              "    <tr>\n",
              "      <th>2010-10-01</th>\n",
              "      <td>22.478333</td>\n",
              "      <td>73.690000</td>\n",
              "      <td>0.372887</td>\n",
              "      <td>0.0013</td>\n",
              "      <td>0.0468</td>\n",
              "      <td>0.0572</td>\n",
              "      <td>0.036716</td>\n",
              "      <td>0.007232</td>\n",
              "      <td>0.0001</td>\n",
              "      <td>0.001245</td>\n",
              "      <td>-0.031739</td>\n",
              "      <td>-0.020275</td>\n",
              "      <td>0.001080</td>\n",
              "      <td>0.038726</td>\n",
              "      <td>0.037081</td>\n",
              "    </tr>\n",
              "    <tr>\n",
              "      <th>2010-11-01</th>\n",
              "      <td>22.603667</td>\n",
              "      <td>75.520000</td>\n",
              "      <td>0.376695</td>\n",
              "      <td>0.0014</td>\n",
              "      <td>0.0487</td>\n",
              "      <td>0.0592</td>\n",
              "      <td>0.038026</td>\n",
              "      <td>0.014798</td>\n",
              "      <td>0.0001</td>\n",
              "      <td>0.000421</td>\n",
              "      <td>-0.013726</td>\n",
              "      <td>-0.005727</td>\n",
              "      <td>0.001738</td>\n",
              "      <td>-0.000051</td>\n",
              "      <td>-0.002571</td>\n",
              "    </tr>\n",
              "    <tr>\n",
              "      <th>2010-12-01</th>\n",
              "      <td>22.729000</td>\n",
              "      <td>77.350000</td>\n",
              "      <td>0.358100</td>\n",
              "      <td>0.0014</td>\n",
              "      <td>0.0502</td>\n",
              "      <td>0.0610</td>\n",
              "      <td>0.041378</td>\n",
              "      <td>0.012612</td>\n",
              "      <td>0.0001</td>\n",
              "      <td>0.001718</td>\n",
              "      <td>-0.038814</td>\n",
              "      <td>-0.003619</td>\n",
              "      <td>0.000832</td>\n",
              "      <td>0.067054</td>\n",
              "      <td>0.065249</td>\n",
              "    </tr>\n",
              "  </tbody>\n",
              "</table>\n",
              "<p>1008 rows × 15 columns</p>\n",
              "</div>\n",
              "      <button class=\"colab-df-convert\" onclick=\"convertToInteractive('df-dcc79436-53f6-44e3-bcc5-a32ff051a7ae')\"\n",
              "              title=\"Convert this dataframe to an interactive table.\"\n",
              "              style=\"display:none;\">\n",
              "        \n",
              "  <svg xmlns=\"http://www.w3.org/2000/svg\" height=\"24px\"viewBox=\"0 0 24 24\"\n",
              "       width=\"24px\">\n",
              "    <path d=\"M0 0h24v24H0V0z\" fill=\"none\"/>\n",
              "    <path d=\"M18.56 5.44l.94 2.06.94-2.06 2.06-.94-2.06-.94-.94-2.06-.94 2.06-2.06.94zm-11 1L8.5 8.5l.94-2.06 2.06-.94-2.06-.94L8.5 2.5l-.94 2.06-2.06.94zm10 10l.94 2.06.94-2.06 2.06-.94-2.06-.94-.94-2.06-.94 2.06-2.06.94z\"/><path d=\"M17.41 7.96l-1.37-1.37c-.4-.4-.92-.59-1.43-.59-.52 0-1.04.2-1.43.59L10.3 9.45l-7.72 7.72c-.78.78-.78 2.05 0 2.83L4 21.41c.39.39.9.59 1.41.59.51 0 1.02-.2 1.41-.59l7.78-7.78 2.81-2.81c.8-.78.8-2.07 0-2.86zM5.41 20L4 18.59l7.72-7.72 1.47 1.35L5.41 20z\"/>\n",
              "  </svg>\n",
              "      </button>\n",
              "      \n",
              "  <style>\n",
              "    .colab-df-container {\n",
              "      display:flex;\n",
              "      flex-wrap:wrap;\n",
              "      gap: 12px;\n",
              "    }\n",
              "\n",
              "    .colab-df-convert {\n",
              "      background-color: #E8F0FE;\n",
              "      border: none;\n",
              "      border-radius: 50%;\n",
              "      cursor: pointer;\n",
              "      display: none;\n",
              "      fill: #1967D2;\n",
              "      height: 32px;\n",
              "      padding: 0 0 0 0;\n",
              "      width: 32px;\n",
              "    }\n",
              "\n",
              "    .colab-df-convert:hover {\n",
              "      background-color: #E2EBFA;\n",
              "      box-shadow: 0px 1px 2px rgba(60, 64, 67, 0.3), 0px 1px 3px 1px rgba(60, 64, 67, 0.15);\n",
              "      fill: #174EA6;\n",
              "    }\n",
              "\n",
              "    [theme=dark] .colab-df-convert {\n",
              "      background-color: #3B4455;\n",
              "      fill: #D2E3FC;\n",
              "    }\n",
              "\n",
              "    [theme=dark] .colab-df-convert:hover {\n",
              "      background-color: #434B5C;\n",
              "      box-shadow: 0px 1px 3px 1px rgba(0, 0, 0, 0.15);\n",
              "      filter: drop-shadow(0px 1px 2px rgba(0, 0, 0, 0.3));\n",
              "      fill: #FFFFFF;\n",
              "    }\n",
              "  </style>\n",
              "\n",
              "      <script>\n",
              "        const buttonEl =\n",
              "          document.querySelector('#df-dcc79436-53f6-44e3-bcc5-a32ff051a7ae button.colab-df-convert');\n",
              "        buttonEl.style.display =\n",
              "          google.colab.kernel.accessAllowed ? 'block' : 'none';\n",
              "\n",
              "        async function convertToInteractive(key) {\n",
              "          const element = document.querySelector('#df-dcc79436-53f6-44e3-bcc5-a32ff051a7ae');\n",
              "          const dataTable =\n",
              "            await google.colab.kernel.invokeFunction('convertToInteractive',\n",
              "                                                     [key], {});\n",
              "          if (!dataTable) return;\n",
              "\n",
              "          const docLinkHtml = 'Like what you see? Visit the ' +\n",
              "            '<a target=\"_blank\" href=https://colab.research.google.com/notebooks/data_table.ipynb>data table notebook</a>'\n",
              "            + ' to learn more about interactive tables.';\n",
              "          element.innerHTML = '';\n",
              "          dataTable['output_type'] = 'display_data';\n",
              "          await google.colab.output.renderOutput(dataTable, element);\n",
              "          const docLink = document.createElement('div');\n",
              "          docLink.innerHTML = docLinkHtml;\n",
              "          element.appendChild(docLink);\n",
              "        }\n",
              "      </script>\n",
              "    </div>\n",
              "  </div>\n",
              "  "
            ],
            "text/plain": [
              "                  D12        E12       b/m  ...      svar  CRSP_SPvw  CRSP_SPvwx\n",
              "yyyymm                                      ...                                 \n",
              "1927-01-01   0.696700   1.229000  0.443706  ...  0.000470  -0.002910   -0.005579\n",
              "1927-02-01   0.703300   1.218000  0.428501  ...  0.000287   0.045522    0.040566\n",
              "1927-03-01   0.710000   1.208000  0.469765  ...  0.000924   0.007324    0.002610\n",
              "1927-04-01   0.716700   1.197000  0.456754  ...  0.000603   0.013021    0.010907\n",
              "1927-05-01   0.723300   1.186000  0.434783  ...  0.000392   0.062353    0.057096\n",
              "...               ...        ...       ...  ...       ...        ...         ...\n",
              "2010-08-01  22.247667  70.273333  0.413982  ...  0.002705  -0.045434   -0.047840\n",
              "2010-09-01  22.353000  71.860000  0.384306  ...  0.002337   0.090383    0.088751\n",
              "2010-10-01  22.478333  73.690000  0.372887  ...  0.001080   0.038726    0.037081\n",
              "2010-11-01  22.603667  75.520000  0.376695  ...  0.001738  -0.000051   -0.002571\n",
              "2010-12-01  22.729000  77.350000  0.358100  ...  0.000832   0.067054    0.065249\n",
              "\n",
              "[1008 rows x 15 columns]"
            ]
          },
          "metadata": {},
          "execution_count": 37
        }
      ]
    },
    {
      "cell_type": "code",
      "source": [
        "y_train"
      ],
      "metadata": {
        "colab": {
          "base_uri": "https://localhost:8080/"
        },
        "id": "bmcqWYOtDDVk",
        "outputId": "38e5c159-bb46-4bfe-972f-667241cab41f"
      },
      "execution_count": 25,
      "outputs": [
        {
          "output_type": "execute_result",
          "data": {
            "text/plain": [
              "yyyymm\n",
              "1927-01-01      13.21\n",
              "1927-02-01      13.84\n",
              "1927-03-01      13.93\n",
              "1927-04-01      14.17\n",
              "1927-05-01      14.91\n",
              "               ...   \n",
              "2010-08-01    1049.33\n",
              "2010-09-01    1141.20\n",
              "2010-10-01    1183.26\n",
              "2010-11-01    1180.55\n",
              "2010-12-01    1257.64\n",
              "Name: Index, Length: 1008, dtype: float64"
            ]
          },
          "metadata": {},
          "execution_count": 25
        }
      ]
    },
    {
      "cell_type": "markdown",
      "source": [
        "We know that regularization methods work best when we standardize our variables.We will follow the following standardization:\n",
        "$$ z = \\frac{x-\\bar{x}}{\\sigma_x} $$\n",
        "Where $x$ is the observation, $\\bar{x}$ is the sample mean of the variable, and $\\sigma_x$ is the standard deviation of the variable."
      ],
      "metadata": {
        "id": "06afKx7GDiJh"
      }
    },
    {
      "cell_type": "code",
      "source": [
        "from sklearn.preprocessing import StandardScaler"
      ],
      "metadata": {
        "id": "GqMNFPvDDVRH"
      },
      "execution_count": 22,
      "outputs": []
    },
    {
      "cell_type": "code",
      "source": [
        "scaler = StandardScaler().fit(X_train) \n",
        "X_train = scaler.transform(X_train)\n",
        "X_test = scaler.transform(X_test)"
      ],
      "metadata": {
        "id": "ESsq2UA5ETHv"
      },
      "execution_count": 38,
      "outputs": []
    },
    {
      "cell_type": "code",
      "source": [
        "X_train,X_test"
      ],
      "metadata": {
        "colab": {
          "base_uri": "https://localhost:8080/"
        },
        "id": "QYm9A_AXFEK6",
        "outputId": "9a53c394-a03d-40e6-8ff0-cf560f4b7db6"
      },
      "execution_count": 30,
      "outputs": [
        {
          "output_type": "execute_result",
          "data": {
            "text/plain": [
              "(array([[-0.79735476, -0.69985784, -0.54438817, ...,         nan,\n",
              "         -0.21790302, -0.20640263],\n",
              "        [-0.79643681, -0.70044785, -0.60146299, ...,         nan,\n",
              "          0.6485307 ,  0.61803629],\n",
              "        [-0.79550495, -0.70098423, -0.44656765, ...,         nan,\n",
              "         -0.03481988, -0.06009576],\n",
              "        ...,\n",
              "        [ 2.23210804,  3.18679328, -0.81022199, ...,         nan,\n",
              "          0.52695233,  0.55577235],\n",
              "        [ 2.24953982,  3.28495052, -0.79592974, ...,         nan,\n",
              "         -0.16675638, -0.15266089],\n",
              "        [ 2.2669716 ,  3.38310776, -0.86572845, ...,         nan,\n",
              "          1.03373161,  1.05902937]]),\n",
              " array([[ 2.29951711,  3.4539097 , -0.90126922, ...,         nan,\n",
              "          0.25186249,  0.29203051],\n",
              "        [ 2.33206262,  3.52471164, -0.93706359, ...,         nan,\n",
              "          0.4157142 ,  0.43374574],\n",
              "        [ 2.36460812,  3.59551358, -0.8801067 , ...,         nan,\n",
              "         -0.15466295, -0.12221677],\n",
              "        ...,\n",
              "        [ 7.26443707,  4.42940311, -1.25969898, ...,         nan,\n",
              "         -0.63829296, -0.59817414],\n",
              "        [ 7.23790041,  4.35627687, -1.36027574, ...,         nan,\n",
              "          1.79134231,  1.81609459],\n",
              "        [ 7.21136374,  4.28315062, -1.38714401, ...,         nan,\n",
              "          0.57788429,  0.61038953]]))"
            ]
          },
          "metadata": {},
          "execution_count": 30
        }
      ]
    },
    {
      "cell_type": "code",
      "source": [
        "reg = Lasso(alpha=1)\n",
        "res =reg.fit(X_train, y_train)"
      ],
      "metadata": {
        "id": "v90T9EKvFE6I"
      },
      "execution_count": 42,
      "outputs": []
    },
    {
      "cell_type": "markdown",
      "source": [
        "Let's get the coefficients in our Lasso"
      ],
      "metadata": {
        "id": "2o0IbzGiVxrQ"
      }
    },
    {
      "cell_type": "code",
      "source": [
        "coef=res.coef_\n",
        "coef_list=list(zip(df.iloc[:1008,1:].drop(columns=['csp']).columns,np.round(coef,3)))\n",
        "coef_list"
      ],
      "metadata": {
        "colab": {
          "base_uri": "https://localhost:8080/"
        },
        "id": "ewR7Zv7IGA7T",
        "outputId": "14789bb8-f0f7-4f6a-ebe0-fe78cc2c1b75"
      },
      "execution_count": 77,
      "outputs": [
        {
          "output_type": "execute_result",
          "data": {
            "text/plain": [
              "[('D12', 193.343),\n",
              " ('E12', 196.436),\n",
              " ('b/m', -49.413),\n",
              " ('tbl', -2.798),\n",
              " ('AAA', 105.967),\n",
              " ('BAA', 25.595),\n",
              " ('lty', -171.457),\n",
              " ('ntis', -2.534),\n",
              " ('Rfree', -0.0),\n",
              " ('infl', 2.058),\n",
              " ('ltr', -10.227),\n",
              " ('corpr', -0.0),\n",
              " ('svar', 1.193),\n",
              " ('CRSP_SPvw', -0.0),\n",
              " ('CRSP_SPvwx', -0.0)]"
            ]
          },
          "metadata": {},
          "execution_count": 77
        }
      ]
    },
    {
      "cell_type": "markdown",
      "source": [
        "We can also get the $R^2$ of the training set and test set"
      ],
      "metadata": {
        "id": "bf67XzzmVwsb"
      }
    },
    {
      "cell_type": "code",
      "source": [
        "print('R squared training set', round(reg.score(X_train, y_train)*100, 2))\n",
        "print('R squared test set', round(reg.score(X_test, y_test)*100, 2))"
      ],
      "metadata": {
        "colab": {
          "base_uri": "https://localhost:8080/"
        },
        "id": "f0Zj2gnPTNci",
        "outputId": "57d4f5d7-8a0a-410e-db95-58fa87332036"
      },
      "execution_count": 51,
      "outputs": [
        {
          "output_type": "stream",
          "name": "stdout",
          "text": [
            "R squared training set 94.24\n",
            "R squared test set 80.4\n"
          ]
        }
      ]
    },
    {
      "cell_type": "markdown",
      "source": [
        "Let's now get the RMSE of the training and test sets"
      ],
      "metadata": {
        "id": "uavqrRJRV-E1"
      }
    },
    {
      "cell_type": "code",
      "source": [
        "import numpy as np\n",
        "from sklearn.metrics import mean_squared_error\n",
        "\n",
        "# Training data\n",
        "pred_train = reg.predict(X_train)\n",
        "rmse_train = np.sqrt(mean_squared_error(y_train, pred_train))\n",
        "print('RMSE training set', round(rmse_train, 2))\n",
        "\n",
        "# Test data\n",
        "pred = reg.predict(X_test)\n",
        "rmse_test =np.sqrt(mean_squared_error(y_test, pred))\n",
        "print('RMSE test set', round(rmse_test, 2))"
      ],
      "metadata": {
        "colab": {
          "base_uri": "https://localhost:8080/"
        },
        "id": "NeaokI6NVkuh",
        "outputId": "550657e5-7b59-44be-bddb-22c1fd1ee0bf"
      },
      "execution_count": 56,
      "outputs": [
        {
          "output_type": "stream",
          "name": "stdout",
          "text": [
            "RMSE training set 100.97\n",
            "RMSE test set 280.42\n"
          ]
        }
      ]
    },
    {
      "cell_type": "markdown",
      "source": [
        "We obtained these results without doing any cross validation. We know that the coefficients are going to be a function of the $\\alpha$ we choose. Let's plot the values of the coefficients based on the value of $\\alpha$"
      ],
      "metadata": {
        "id": "bNp4WTFFW6Mr"
      }
    },
    {
      "cell_type": "code",
      "source": [
        "import numpy as np\n",
        "import matplotlib.pyplot as plt\n",
        "\n",
        "alphas = np.linspace(0.01,500,100)\n",
        "lasso = Lasso(max_iter=10000)\n",
        "coefs = []\n",
        "\n",
        "for a in alphas:\n",
        "    lasso.set_params(alpha=a)\n",
        "    lasso.fit(X_train, y_train)\n",
        "    coefs.append(lasso.coef_)\n",
        "\n",
        "ax = plt.gca()\n",
        "\n",
        "ax.plot(alphas, coefs)\n",
        "ax.set_xscale('log')\n",
        "plt.axis('tight')\n",
        "plt.xlabel('alpha')\n",
        "plt.ylabel('Standardized Coefficients')\n",
        "plt.title('Lasso coefficients as a function of alpha');"
      ],
      "metadata": {
        "colab": {
          "base_uri": "https://localhost:8080/",
          "height": 317
        },
        "id": "Wlg4BrjFaHd-",
        "outputId": "316e3404-1618-4701-a046-5c630de93286"
      },
      "execution_count": 72,
      "outputs": [
        {
          "output_type": "stream",
          "name": "stderr",
          "text": [
            "No handles with labels found to put in legend.\n"
          ]
        },
        {
          "output_type": "display_data",
          "data": {
            "image/png": "[encoded data removed]",
            "text/plain": [
              "<Figure size 432x288 with 1 Axes>"
            ]
          },
          "metadata": {
            "needs_background": "light"
          }
        }
      ]
    },
    {
      "cell_type": "markdown",
      "source": [
        "As we can see,  coefficients are sensitive to the $\\alpha$ we select."
      ],
      "metadata": {
        "id": "gX81UOa6aaXz"
      }
    },
    {
      "cell_type": "markdown",
      "source": [
        "### Cross Validation to Find Best $\\alpha$"
      ],
      "metadata": {
        "id": "KT8fmnIBc1-k"
      }
    },
    {
      "cell_type": "markdown",
      "source": [
        "Let's now apply 5 Fold Cross Validation to find the best value for $\\alpha$."
      ],
      "metadata": {
        "id": "9jSbhMKAZwBF"
      }
    },
    {
      "cell_type": "code",
      "source": [
        "model = LassoCV(cv=5, random_state=0, max_iter=10000)\n",
        "model.fit(X_train, y_train)"
      ],
      "metadata": {
        "colab": {
          "base_uri": "https://localhost:8080/"
        },
        "id": "ixPKIyzVWqkG",
        "outputId": "e1e9e0b1-faa6-4742-84db-44b97d6b19f8"
      },
      "execution_count": 73,
      "outputs": [
        {
          "output_type": "execute_result",
          "data": {
            "text/plain": [
              "LassoCV(cv=5, max_iter=10000, random_state=0)"
            ]
          },
          "metadata": {},
          "execution_count": 73
        }
      ]
    },
    {
      "cell_type": "markdown",
      "source": [
        "We then ask for the best $\\alpha$ value based on the cross validation."
      ],
      "metadata": {
        "id": "Gc3Y2AZebcj6"
      }
    },
    {
      "cell_type": "code",
      "source": [
        "model.alpha_"
      ],
      "metadata": {
        "colab": {
          "base_uri": "https://localhost:8080/"
        },
        "id": "C33xcZlQbRau",
        "outputId": "9b1e40f6-e9fb-4441-97c1-8fb2395a4c29"
      },
      "execution_count": 74,
      "outputs": [
        {
          "output_type": "execute_result",
          "data": {
            "text/plain": [
              "0.3937234197628315"
            ]
          },
          "metadata": {},
          "execution_count": 74
        }
      ]
    },
    {
      "cell_type": "markdown",
      "source": [
        "We will now use this $\\alpha$ value to run our new Lasso regression."
      ],
      "metadata": {
        "id": "6mQPuXrIbjdG"
      }
    },
    {
      "cell_type": "code",
      "source": [
        "lasso_best = Lasso(alpha=model.alpha_)\n",
        "lasso_best.fit(X_train, y_train)"
      ],
      "metadata": {
        "colab": {
          "base_uri": "https://localhost:8080/"
        },
        "id": "_Vc13dgEbTZL",
        "outputId": "0605e921-a162-410b-9572-3303cc977ed4"
      },
      "execution_count": 75,
      "outputs": [
        {
          "output_type": "execute_result",
          "data": {
            "text/plain": [
              "Lasso(alpha=0.3937234197628315)"
            ]
          },
          "metadata": {},
          "execution_count": 75
        }
      ]
    },
    {
      "cell_type": "code",
      "source": [
        "coef=lasso_best.coef_\n",
        "coef_list_best=list(zip(df.iloc[:1008,1:].drop(columns=['csp']).columns,np.round(coef,3)))\n",
        "coef_list_best"
      ],
      "metadata": {
        "colab": {
          "base_uri": "https://localhost:8080/"
        },
        "id": "LoyuDaXUbx4v",
        "outputId": "8e6d72cd-5371-4b3d-e56a-df27cb7ab8d7"
      },
      "execution_count": 78,
      "outputs": [
        {
          "output_type": "execute_result",
          "data": {
            "text/plain": [
              "[('D12', 183.794),\n",
              " ('E12', 200.416),\n",
              " ('b/m', -49.073),\n",
              " ('tbl', -8.69),\n",
              " ('AAA', 248.481),\n",
              " ('BAA', -0.0),\n",
              " ('lty', -282.914),\n",
              " ('ntis', -7.096),\n",
              " ('Rfree', -0.0),\n",
              " ('infl', 3.675),\n",
              " ('ltr', -16.268),\n",
              " ('corpr', -0.0),\n",
              " ('svar', -0.638),\n",
              " ('CRSP_SPvw', -0.652),\n",
              " ('CRSP_SPvwx', -0.0)]"
            ]
          },
          "metadata": {},
          "execution_count": 78
        }
      ]
    },
    {
      "cell_type": "code",
      "source": [
        "print('R squared training set', round(lasso_best.score(X_train, y_train)*100, 2))\n",
        "print('R squared test set', round(lasso_best.score(X_test, y_test)*100, 2))"
      ],
      "metadata": {
        "colab": {
          "base_uri": "https://localhost:8080/"
        },
        "id": "_jrQCnW8cSPf",
        "outputId": "7e874898-c437-40fb-91f7-70e6e1f201d1"
      },
      "execution_count": 80,
      "outputs": [
        {
          "output_type": "stream",
          "name": "stdout",
          "text": [
            "R squared training set 94.44\n",
            "R squared test set 79.52\n"
          ]
        }
      ]
    },
    {
      "cell_type": "code",
      "source": [
        "import numpy as np\n",
        "from sklearn.metrics import mean_squared_error\n",
        "\n",
        "# Training data\n",
        "pred_train = lasso_best.predict(X_train)\n",
        "rmse_train = np.sqrt(mean_squared_error(y_train, pred_train))\n",
        "print('RMSE training set', round(rmse_train, 2))\n",
        "\n",
        "# Test data\n",
        "pred = lasso_best.predict(X_test)\n",
        "rmse_test =np.sqrt(mean_squared_error(y_test, pred))\n",
        "print('RMSE test set', round(rmse_test, 2))"
      ],
      "metadata": {
        "colab": {
          "base_uri": "https://localhost:8080/"
        },
        "id": "PaljLYRzcafN",
        "outputId": "33d61966-75e2-48ab-8fe7-1a4a29858a82"
      },
      "execution_count": 81,
      "outputs": [
        {
          "output_type": "stream",
          "name": "stdout",
          "text": [
            "RMSE training set 99.21\n",
            "RMSE test set 286.64\n"
          ]
        }
      ]
    },
    {
      "cell_type": "markdown",
      "source": [
        "## Elastic Net Regression"
      ],
      "metadata": {
        "id": "WMOJB5_Jc_c0"
      }
    },
    {
      "cell_type": "markdown",
      "source": [
        "For the Elastic Net we will use the same tranining and test samples."
      ],
      "metadata": {
        "id": "GSC5_J1YdIOl"
      }
    },
    {
      "cell_type": "code",
      "source": [
        "from sklearn.linear_model import ElasticNet\n",
        "enet = ElasticNet(alpha=1, l1_ratio =0.5)\n",
        "enet_res =enet.fit(X_train, y_train)"
      ],
      "metadata": {
        "id": "-hhDMQRicinz"
      },
      "execution_count": 117,
      "outputs": []
    },
    {
      "cell_type": "code",
      "source": [
        "coef_enet=enet_res.coef_\n",
        "coef_list_enet=list(zip(df.iloc[:1008,1:].drop(columns=['csp']).columns,np.round(coef_enet,3)))\n",
        "coef_list_enet"
      ],
      "metadata": {
        "colab": {
          "base_uri": "https://localhost:8080/"
        },
        "id": "0JVBU6S5dYB8",
        "outputId": "5b17a49d-548c-4427-8f79-79b9f29578b0"
      },
      "execution_count": 118,
      "outputs": [
        {
          "output_type": "execute_result",
          "data": {
            "text/plain": [
              "[('D12', 137.687),\n",
              " ('E12', 145.206),\n",
              " ('b/m', -77.987),\n",
              " ('tbl', -11.533),\n",
              " ('AAA', 5.324),\n",
              " ('BAA', 4.545),\n",
              " ('lty', -5.574),\n",
              " ('ntis', -23.879),\n",
              " ('Rfree', -7.559),\n",
              " ('infl', -0.912),\n",
              " ('ltr', -0.345),\n",
              " ('corpr', -0.0),\n",
              " ('svar', 9.101),\n",
              " ('CRSP_SPvw', -2.611),\n",
              " ('CRSP_SPvwx', -0.005)]"
            ]
          },
          "metadata": {},
          "execution_count": 118
        }
      ]
    },
    {
      "cell_type": "markdown",
      "source": [
        "We can get the $R^2$ values for the test and train sets"
      ],
      "metadata": {
        "id": "0tvs9RZreZJb"
      }
    },
    {
      "cell_type": "code",
      "source": [
        "print('R squared training set', round(enet.score(X_train, y_train)*100, 4))\n",
        "print('R squared test set', round(enet.score(X_test, y_test)*100, 4))"
      ],
      "metadata": {
        "colab": {
          "base_uri": "https://localhost:8080/"
        },
        "id": "eECnp8IidqHm",
        "outputId": "e529de19-17f4-445c-8207-7eb656bd79f4"
      },
      "execution_count": 119,
      "outputs": [
        {
          "output_type": "stream",
          "name": "stdout",
          "text": [
            "R squared training set 90.0923\n",
            "R squared test set 31.7685\n"
          ]
        }
      ]
    },
    {
      "cell_type": "markdown",
      "source": [
        "Let's now get the RMSE for both the training and test samples. "
      ],
      "metadata": {
        "id": "mCsIQg9gef3d"
      }
    },
    {
      "cell_type": "code",
      "source": [
        "import numpy as np\n",
        "from sklearn.metrics import mean_squared_error\n",
        "\n",
        "# Training data\n",
        "pred_train = enet.predict(X_train)\n",
        "rmse_train = np.sqrt(mean_squared_error(y_train, pred_train))\n",
        "print('RMSE training set', round(rmse_train, 2))\n",
        "\n",
        "# Test data\n",
        "pred = enet.predict(X_test)\n",
        "rmse_test =np.sqrt(mean_squared_error(y_test, pred))\n",
        "print('RMSE test set', round(rmse_test, 2))"
      ],
      "metadata": {
        "colab": {
          "base_uri": "https://localhost:8080/"
        },
        "id": "5RxeiQbvdxA6",
        "outputId": "cfb8a3a1-fbb4-4d8e-b416-bf96a0802251"
      },
      "execution_count": 86,
      "outputs": [
        {
          "output_type": "stream",
          "name": "stdout",
          "text": [
            "RMSE training set 132.42\n",
            "RMSE test set 523.19\n"
          ]
        }
      ]
    },
    {
      "cell_type": "markdown",
      "source": [
        "We can see that the Elastic Net performs poorly compared to the Lasso.\n",
        "\n",
        "Now let's tune the hyperparameters of the Elastic Net using 5 fold cross validation."
      ],
      "metadata": {
        "id": "dOdJup6iequL"
      }
    },
    {
      "cell_type": "code",
      "source": [
        "from sklearn.linear_model import ElasticNetCV\n",
        "enet_best = ElasticNetCV(cv=5,random_state=0, max_iter=10000)\n",
        "enet_res_best =enet_best.fit(X_train, y_train)"
      ],
      "metadata": {
        "id": "NZxdg3F6eonm"
      },
      "execution_count": 105,
      "outputs": []
    },
    {
      "cell_type": "code",
      "source": [
        "enet_best_alpha=enet_best.alpha_"
      ],
      "metadata": {
        "id": "FEWG9YWmfLzH"
      },
      "execution_count": 106,
      "outputs": []
    },
    {
      "cell_type": "code",
      "source": [
        "enet_best.l1_ratio_"
      ],
      "metadata": {
        "colab": {
          "base_uri": "https://localhost:8080/"
        },
        "id": "s2-XXGegfaNr",
        "outputId": "34ad4975-00b1-4cf3-8b32-3f510d1c2c35"
      },
      "execution_count": 107,
      "outputs": [
        {
          "output_type": "execute_result",
          "data": {
            "text/plain": [
              "0.5"
            ]
          },
          "metadata": {},
          "execution_count": 107
        }
      ]
    },
    {
      "cell_type": "code",
      "source": [
        "enet_best = ElasticNet(alpha=enet_best_alpha, l1_ratio =0.5)\n",
        "enet_res_best =enet.fit(X_train, y_train)"
      ],
      "metadata": {
        "id": "4XAOuyt7fqaP"
      },
      "execution_count": 113,
      "outputs": []
    },
    {
      "cell_type": "code",
      "source": [
        "coef_enet_best=enet_res_best.coef_\n",
        "coef_list_enet_best=list(zip(df.iloc[:1008,1:].drop(columns=['csp']).columns,np.round(coef_enet_best,3)))\n",
        "coef_list_enet_best"
      ],
      "metadata": {
        "colab": {
          "base_uri": "https://localhost:8080/"
        },
        "id": "kKLqZTdqgzy7",
        "outputId": "34e7cfad-94e7-41e3-c3bb-bc2d3d0c5492"
      },
      "execution_count": 114,
      "outputs": [
        {
          "output_type": "execute_result",
          "data": {
            "text/plain": [
              "[('D12', 137.687),\n",
              " ('E12', 145.206),\n",
              " ('b/m', -77.987),\n",
              " ('tbl', -11.533),\n",
              " ('AAA', 5.324),\n",
              " ('BAA', 4.545),\n",
              " ('lty', -5.574),\n",
              " ('ntis', -23.879),\n",
              " ('Rfree', -7.559),\n",
              " ('infl', -0.912),\n",
              " ('ltr', -0.345),\n",
              " ('corpr', -0.0),\n",
              " ('svar', 9.101),\n",
              " ('CRSP_SPvw', -2.611),\n",
              " ('CRSP_SPvwx', -0.005)]"
            ]
          },
          "metadata": {},
          "execution_count": 114
        }
      ]
    },
    {
      "cell_type": "code",
      "source": [
        "print('R squared training set', round(enet_res_best.score(X_train, y_train)*100, 4))\n",
        "print('R squared test set', round(enet_res_best.score(X_test, y_test)*100, 4))"
      ],
      "metadata": {
        "colab": {
          "base_uri": "https://localhost:8080/"
        },
        "id": "18EMI5MqhGu4",
        "outputId": "5f23e5ee-275f-433a-9342-bf3b4535d2ff"
      },
      "execution_count": 116,
      "outputs": [
        {
          "output_type": "stream",
          "name": "stdout",
          "text": [
            "R squared training set 90.0923\n",
            "R squared test set 31.7685\n"
          ]
        }
      ]
    },
    {
      "cell_type": "markdown",
      "source": [
        "We can also have a more hands on approach to hyperparameter tuning.\n"
      ],
      "metadata": {
        "id": "qF2pwQN2i96I"
      }
    },
    {
      "cell_type": "code",
      "source": [
        "from sklearn.model_selection import RepeatedKFold\n",
        "from numpy import arange\n",
        "cv = RepeatedKFold(n_splits=5, n_repeats=3, random_state=0)\n",
        "ratios = arange(0, 1, 0.01)\n",
        "alphas = [1e-5, 1e-4, 1e-3, 1e-2, 1e-1, 0.0, 1.0, 10.0, 100.0]\n",
        "model = ElasticNetCV(l1_ratio=ratios, alphas=alphas, cv=cv, n_jobs=-1)\n",
        "model.fit(X_train, y_train)\n"
      ],
      "metadata": {
        "id": "LKZzrfp7jLtW"
      },
      "execution_count": null,
      "outputs": []
    },
    {
      "cell_type": "code",
      "source": [
        "model.alpha_"
      ],
      "metadata": {
        "colab": {
          "base_uri": "https://localhost:8080/"
        },
        "id": "J04psVUVjoRk",
        "outputId": "dfbd78e5-69e0-44f5-dacc-cd0e4ef7d042"
      },
      "execution_count": 126,
      "outputs": [
        {
          "output_type": "execute_result",
          "data": {
            "text/plain": [
              "0.0001"
            ]
          },
          "metadata": {},
          "execution_count": 126
        }
      ]
    },
    {
      "cell_type": "code",
      "source": [
        "model.l1_ratio_"
      ],
      "metadata": {
        "colab": {
          "base_uri": "https://localhost:8080/"
        },
        "id": "tKGfrbyjjttN",
        "outputId": "85545110-4741-4daf-986c-16df881389ac"
      },
      "execution_count": 127,
      "outputs": [
        {
          "output_type": "execute_result",
          "data": {
            "text/plain": [
              "0.14"
            ]
          },
          "metadata": {},
          "execution_count": 127
        }
      ]
    },
    {
      "cell_type": "code",
      "source": [
        "print('R squared training set', round(model.score(X_train, y_train)*100, 4))\n",
        "print('R squared test set', round(model.score(X_test, y_test)*100, 4))"
      ],
      "metadata": {
        "colab": {
          "base_uri": "https://localhost:8080/"
        },
        "id": "aP05PfvCkCvD",
        "outputId": "a2b552c4-0a69-472f-a2fb-ae18306f558c"
      },
      "execution_count": 128,
      "outputs": [
        {
          "output_type": "stream",
          "name": "stdout",
          "text": [
            "R squared training set 94.5337\n",
            "R squared test set 78.6933\n"
          ]
        }
      ]
    },
    {
      "cell_type": "markdown",
      "source": [
        "We can see that sometimes, it is better to do hypertuning with a more hands-on approach. Compared to previous Rsquare values, the model we hand tuned is performing better in the test set."
      ],
      "metadata": {
        "id": "L1hPdb2ukJBY"
      }
    },
    {
      "cell_type": "code",
      "source": [
        ""
      ],
      "metadata": {
        "id": "KOaq2cMQkg7_"
      },
      "execution_count": null,
      "outputs": []
    }
  ]
}