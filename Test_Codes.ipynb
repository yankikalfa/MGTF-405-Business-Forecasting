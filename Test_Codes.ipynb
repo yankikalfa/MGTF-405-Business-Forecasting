{
  "nbformat": 4,
  "nbformat_minor": 0,
  "metadata": {
    "colab": {
      "name": "Test Codes.ipynb",
      "provenance": [],
      "collapsed_sections": [],
      "mount_file_id": "1Uo7onB9C4r1RiuhchdqmQ-d3RlrHU_JR",
      "authorship_tag": "ABX9TyNxodhGZsJ9BqEMtD+RK2Su",
      "include_colab_link": true
    },
    "kernelspec": {
      "name": "python3",
      "display_name": "Python 3"
    },
    "language_info": {
      "name": "python"
    }
  },
  "cells": [
    {
      "cell_type": "markdown",
      "metadata": {
        "id": "view-in-github",
        "colab_type": "text"
      },
      "source": [
        "<a href=\"https://colab.research.google.com/github/yankikalfa/MGTF-405-Business-Forecasting/blob/main/Test_Codes.ipynb\" target=\"_parent\"><img src=\"https://colab.research.google.com/assets/colab-badge.svg\" alt=\"Open In Colab\"/></a>"
      ]
    },
    {
      "cell_type": "markdown",
      "source": [
        "# Test Codes for MGTF 405"
      ],
      "metadata": {
        "id": "_bMnk_p1s-6l"
      }
    },
    {
      "cell_type": "markdown",
      "source": [
        "## Test Code for Assignment 2"
      ],
      "metadata": {
        "id": "4gkGm6RqtGgv"
      }
    },
    {
      "cell_type": "markdown",
      "source": [
        "We will use the Goyal Welch dataset obtained from the following page:\n",
        "https://drive.google.com/file/d/1ACbhdnIy0VbCWgsnXkjcddiV8HF4feWv/view?usp=sharing\n",
        "\n",
        "We will be testing the following procedures:\n",
        "* ARIMA, and Lag Selection\n",
        "* ADF tests\n",
        "* ACF, PACF, Ljung Box Test\n",
        "* Lasso, Elastic Net"
      ],
      "metadata": {
        "id": "__H0Pp3gtN1T"
      }
    },
    {
      "cell_type": "code",
      "execution_count": 1,
      "metadata": {
        "id": "Hl-BJWVooHP5"
      },
      "outputs": [],
      "source": [
        "import pandas as pd"
      ]
    },
    {
      "cell_type": "code",
      "source": [
        "df = pd.read_excel('/content/drive/MyDrive/PredictorData2020.xlsx', parse_dates=True)"
      ],
      "metadata": {
        "id": "Zkmx1dXyyVMr"
      },
      "execution_count": 11,
      "outputs": []
    },
    {
      "cell_type": "code",
      "source": [
        "df['yyyymm'] = pd.to_datetime(df['yyyymm'])"
      ],
      "metadata": {
        "id": "E4N2kMVjyZzL"
      },
      "execution_count": 13,
      "outputs": []
    },
    {
      "cell_type": "code",
      "source": [
        "df.set_index('yyyymm',inplace=True)\n",
        "df.head()\n"
      ],
      "metadata": {
        "colab": {
          "base_uri": "https://localhost:8080/",
          "height": 384
        },
        "id": "mnQCQOsvydOV",
        "outputId": "b5d8ee95-7fdd-4c8c-a216-619ba3b8942b"
      },
      "execution_count": 14,
      "outputs": [
        {
          "output_type": "execute_result",
          "data": {
            "text/html": [
              "\n",
              "  <div id=\"df-aa5799d8-429b-4c93-be8d-116547ba38d9\">\n",
              "    <div class=\"colab-df-container\">\n",
              "      <div>\n",
              "<style scoped>\n",
              "    .dataframe tbody tr th:only-of-type {\n",
              "        vertical-align: middle;\n",
              "    }\n",
              "\n",
              "    .dataframe tbody tr th {\n",
              "        vertical-align: top;\n",
              "    }\n",
              "\n",
              "    .dataframe thead th {\n",
              "        text-align: right;\n",
              "    }\n",
              "</style>\n",
              "<table border=\"1\" class=\"dataframe\">\n",
              "  <thead>\n",
              "    <tr style=\"text-align: right;\">\n",
              "      <th></th>\n",
              "      <th>Index</th>\n",
              "      <th>D12</th>\n",
              "      <th>E12</th>\n",
              "      <th>b/m</th>\n",
              "      <th>tbl</th>\n",
              "      <th>AAA</th>\n",
              "      <th>BAA</th>\n",
              "      <th>lty</th>\n",
              "      <th>ntis</th>\n",
              "      <th>Rfree</th>\n",
              "      <th>infl</th>\n",
              "      <th>ltr</th>\n",
              "      <th>corpr</th>\n",
              "      <th>svar</th>\n",
              "      <th>csp</th>\n",
              "      <th>CRSP_SPvw</th>\n",
              "      <th>CRSP_SPvwx</th>\n",
              "    </tr>\n",
              "    <tr>\n",
              "      <th>yyyymm</th>\n",
              "      <th></th>\n",
              "      <th></th>\n",
              "      <th></th>\n",
              "      <th></th>\n",
              "      <th></th>\n",
              "      <th></th>\n",
              "      <th></th>\n",
              "      <th></th>\n",
              "      <th></th>\n",
              "      <th></th>\n",
              "      <th></th>\n",
              "      <th></th>\n",
              "      <th></th>\n",
              "      <th></th>\n",
              "      <th></th>\n",
              "      <th></th>\n",
              "      <th></th>\n",
              "    </tr>\n",
              "  </thead>\n",
              "  <tbody>\n",
              "    <tr>\n",
              "      <th>1970-01-01 00:00:00.000192701</th>\n",
              "      <td>13.21</td>\n",
              "      <td>0.6967</td>\n",
              "      <td>1.229</td>\n",
              "      <td>0.443706</td>\n",
              "      <td>0.0323</td>\n",
              "      <td>0.0466</td>\n",
              "      <td>0.0561</td>\n",
              "      <td>0.0351</td>\n",
              "      <td>0.050824</td>\n",
              "      <td>0.0025</td>\n",
              "      <td>-0.011299</td>\n",
              "      <td>0.0075</td>\n",
              "      <td>0.0056</td>\n",
              "      <td>0.000470</td>\n",
              "      <td>NaN</td>\n",
              "      <td>-0.002910</td>\n",
              "      <td>-0.005579</td>\n",
              "    </tr>\n",
              "    <tr>\n",
              "      <th>1970-01-01 00:00:00.000192702</th>\n",
              "      <td>13.84</td>\n",
              "      <td>0.7033</td>\n",
              "      <td>1.218</td>\n",
              "      <td>0.428501</td>\n",
              "      <td>0.0329</td>\n",
              "      <td>0.0467</td>\n",
              "      <td>0.0559</td>\n",
              "      <td>0.0347</td>\n",
              "      <td>0.051668</td>\n",
              "      <td>0.0026</td>\n",
              "      <td>-0.005714</td>\n",
              "      <td>0.0088</td>\n",
              "      <td>0.0069</td>\n",
              "      <td>0.000287</td>\n",
              "      <td>NaN</td>\n",
              "      <td>0.045522</td>\n",
              "      <td>0.040566</td>\n",
              "    </tr>\n",
              "    <tr>\n",
              "      <th>1970-01-01 00:00:00.000192703</th>\n",
              "      <td>13.93</td>\n",
              "      <td>0.7100</td>\n",
              "      <td>1.208</td>\n",
              "      <td>0.469765</td>\n",
              "      <td>0.0320</td>\n",
              "      <td>0.0462</td>\n",
              "      <td>0.0554</td>\n",
              "      <td>0.0331</td>\n",
              "      <td>0.046357</td>\n",
              "      <td>0.0030</td>\n",
              "      <td>-0.005747</td>\n",
              "      <td>0.0253</td>\n",
              "      <td>0.0083</td>\n",
              "      <td>0.000924</td>\n",
              "      <td>NaN</td>\n",
              "      <td>0.007324</td>\n",
              "      <td>0.002610</td>\n",
              "    </tr>\n",
              "    <tr>\n",
              "      <th>1970-01-01 00:00:00.000192704</th>\n",
              "      <td>14.17</td>\n",
              "      <td>0.7167</td>\n",
              "      <td>1.197</td>\n",
              "      <td>0.456754</td>\n",
              "      <td>0.0339</td>\n",
              "      <td>0.0458</td>\n",
              "      <td>0.0548</td>\n",
              "      <td>0.0333</td>\n",
              "      <td>0.050514</td>\n",
              "      <td>0.0025</td>\n",
              "      <td>0.000000</td>\n",
              "      <td>-0.0005</td>\n",
              "      <td>0.0055</td>\n",
              "      <td>0.000603</td>\n",
              "      <td>NaN</td>\n",
              "      <td>0.013021</td>\n",
              "      <td>0.010907</td>\n",
              "    </tr>\n",
              "    <tr>\n",
              "      <th>1970-01-01 00:00:00.000192705</th>\n",
              "      <td>14.91</td>\n",
              "      <td>0.7233</td>\n",
              "      <td>1.186</td>\n",
              "      <td>0.434783</td>\n",
              "      <td>0.0333</td>\n",
              "      <td>0.0457</td>\n",
              "      <td>0.0550</td>\n",
              "      <td>0.0327</td>\n",
              "      <td>0.055275</td>\n",
              "      <td>0.0030</td>\n",
              "      <td>0.005780</td>\n",
              "      <td>0.0109</td>\n",
              "      <td>-0.0011</td>\n",
              "      <td>0.000392</td>\n",
              "      <td>NaN</td>\n",
              "      <td>0.062353</td>\n",
              "      <td>0.057096</td>\n",
              "    </tr>\n",
              "  </tbody>\n",
              "</table>\n",
              "</div>\n",
              "      <button class=\"colab-df-convert\" onclick=\"convertToInteractive('df-aa5799d8-429b-4c93-be8d-116547ba38d9')\"\n",
              "              title=\"Convert this dataframe to an interactive table.\"\n",
              "              style=\"display:none;\">\n",
              "        \n",
              "  <svg xmlns=\"http://www.w3.org/2000/svg\" height=\"24px\"viewBox=\"0 0 24 24\"\n",
              "       width=\"24px\">\n",
              "    <path d=\"M0 0h24v24H0V0z\" fill=\"none\"/>\n",
              "    <path d=\"M18.56 5.44l.94 2.06.94-2.06 2.06-.94-2.06-.94-.94-2.06-.94 2.06-2.06.94zm-11 1L8.5 8.5l.94-2.06 2.06-.94-2.06-.94L8.5 2.5l-.94 2.06-2.06.94zm10 10l.94 2.06.94-2.06 2.06-.94-2.06-.94-.94-2.06-.94 2.06-2.06.94z\"/><path d=\"M17.41 7.96l-1.37-1.37c-.4-.4-.92-.59-1.43-.59-.52 0-1.04.2-1.43.59L10.3 9.45l-7.72 7.72c-.78.78-.78 2.05 0 2.83L4 21.41c.39.39.9.59 1.41.59.51 0 1.02-.2 1.41-.59l7.78-7.78 2.81-2.81c.8-.78.8-2.07 0-2.86zM5.41 20L4 18.59l7.72-7.72 1.47 1.35L5.41 20z\"/>\n",
              "  </svg>\n",
              "      </button>\n",
              "      \n",
              "  <style>\n",
              "    .colab-df-container {\n",
              "      display:flex;\n",
              "      flex-wrap:wrap;\n",
              "      gap: 12px;\n",
              "    }\n",
              "\n",
              "    .colab-df-convert {\n",
              "      background-color: #E8F0FE;\n",
              "      border: none;\n",
              "      border-radius: 50%;\n",
              "      cursor: pointer;\n",
              "      display: none;\n",
              "      fill: #1967D2;\n",
              "      height: 32px;\n",
              "      padding: 0 0 0 0;\n",
              "      width: 32px;\n",
              "    }\n",
              "\n",
              "    .colab-df-convert:hover {\n",
              "      background-color: #E2EBFA;\n",
              "      box-shadow: 0px 1px 2px rgba(60, 64, 67, 0.3), 0px 1px 3px 1px rgba(60, 64, 67, 0.15);\n",
              "      fill: #174EA6;\n",
              "    }\n",
              "\n",
              "    [theme=dark] .colab-df-convert {\n",
              "      background-color: #3B4455;\n",
              "      fill: #D2E3FC;\n",
              "    }\n",
              "\n",
              "    [theme=dark] .colab-df-convert:hover {\n",
              "      background-color: #434B5C;\n",
              "      box-shadow: 0px 1px 3px 1px rgba(0, 0, 0, 0.15);\n",
              "      filter: drop-shadow(0px 1px 2px rgba(0, 0, 0, 0.3));\n",
              "      fill: #FFFFFF;\n",
              "    }\n",
              "  </style>\n",
              "\n",
              "      <script>\n",
              "        const buttonEl =\n",
              "          document.querySelector('#df-aa5799d8-429b-4c93-be8d-116547ba38d9 button.colab-df-convert');\n",
              "        buttonEl.style.display =\n",
              "          google.colab.kernel.accessAllowed ? 'block' : 'none';\n",
              "\n",
              "        async function convertToInteractive(key) {\n",
              "          const element = document.querySelector('#df-aa5799d8-429b-4c93-be8d-116547ba38d9');\n",
              "          const dataTable =\n",
              "            await google.colab.kernel.invokeFunction('convertToInteractive',\n",
              "                                                     [key], {});\n",
              "          if (!dataTable) return;\n",
              "\n",
              "          const docLinkHtml = 'Like what you see? Visit the ' +\n",
              "            '<a target=\"_blank\" href=https://colab.research.google.com/notebooks/data_table.ipynb>data table notebook</a>'\n",
              "            + ' to learn more about interactive tables.';\n",
              "          element.innerHTML = '';\n",
              "          dataTable['output_type'] = 'display_data';\n",
              "          await google.colab.output.renderOutput(dataTable, element);\n",
              "          const docLink = document.createElement('div');\n",
              "          docLink.innerHTML = docLinkHtml;\n",
              "          element.appendChild(docLink);\n",
              "        }\n",
              "      </script>\n",
              "    </div>\n",
              "  </div>\n",
              "  "
            ],
            "text/plain": [
              "                               Index     D12    E12  ...  csp  CRSP_SPvw  CRSP_SPvwx\n",
              "yyyymm                                               ...                            \n",
              "1970-01-01 00:00:00.000192701  13.21  0.6967  1.229  ...  NaN  -0.002910   -0.005579\n",
              "1970-01-01 00:00:00.000192702  13.84  0.7033  1.218  ...  NaN   0.045522    0.040566\n",
              "1970-01-01 00:00:00.000192703  13.93  0.7100  1.208  ...  NaN   0.007324    0.002610\n",
              "1970-01-01 00:00:00.000192704  14.17  0.7167  1.197  ...  NaN   0.013021    0.010907\n",
              "1970-01-01 00:00:00.000192705  14.91  0.7233  1.186  ...  NaN   0.062353    0.057096\n",
              "\n",
              "[5 rows x 17 columns]"
            ]
          },
          "metadata": {},
          "execution_count": 14
        }
      ]
    },
    {
      "cell_type": "code",
      "source": [
        "! pip install statsmodels -U"
      ],
      "metadata": {
        "colab": {
          "base_uri": "https://localhost:8080/"
        },
        "id": "tu8XEGWx1b9Q",
        "outputId": "68619c3b-4ce0-4cac-a3ea-d40d3a609feb"
      },
      "execution_count": 15,
      "outputs": [
        {
          "output_type": "stream",
          "name": "stdout",
          "text": [
            "Requirement already satisfied: statsmodels in /usr/local/lib/python3.7/dist-packages (0.10.2)\n",
            "Collecting statsmodels\n",
            "  Downloading statsmodels-0.13.1-cp37-cp37m-manylinux_2_17_x86_64.manylinux2014_x86_64.whl (9.8 MB)\n",
            "\u001b[K     |████████████████████████████████| 9.8 MB 15.1 MB/s \n",
            "\u001b[?25hRequirement already satisfied: patsy>=0.5.2 in /usr/local/lib/python3.7/dist-packages (from statsmodels) (0.5.2)\n",
            "Requirement already satisfied: pandas>=0.25 in /usr/local/lib/python3.7/dist-packages (from statsmodels) (1.1.5)\n",
            "Requirement already satisfied: scipy>=1.3 in /usr/local/lib/python3.7/dist-packages (from statsmodels) (1.4.1)\n",
            "Requirement already satisfied: numpy>=1.17 in /usr/local/lib/python3.7/dist-packages (from statsmodels) (1.19.5)\n",
            "Requirement already satisfied: pytz>=2017.2 in /usr/local/lib/python3.7/dist-packages (from pandas>=0.25->statsmodels) (2018.9)\n",
            "Requirement already satisfied: python-dateutil>=2.7.3 in /usr/local/lib/python3.7/dist-packages (from pandas>=0.25->statsmodels) (2.8.2)\n",
            "Requirement already satisfied: six in /usr/local/lib/python3.7/dist-packages (from patsy>=0.5.2->statsmodels) (1.15.0)\n",
            "Installing collected packages: statsmodels\n",
            "  Attempting uninstall: statsmodels\n",
            "    Found existing installation: statsmodels 0.10.2\n",
            "    Uninstalling statsmodels-0.10.2:\n",
            "      Successfully uninstalled statsmodels-0.10.2\n",
            "Successfully installed statsmodels-0.13.1\n"
          ]
        }
      ]
    },
    {
      "cell_type": "code",
      "source": [
        "!pip install pmdarima\n",
        "import pmdarima\n",
        "import itertools\n",
        "from statsmodels.tsa.arima.model import ARIMA"
      ],
      "metadata": {
        "colab": {
          "base_uri": "https://localhost:8080/"
        },
        "id": "4zluBraq1kgm",
        "outputId": "9982805d-dbcc-43d1-a3c0-57d990513b09"
      },
      "execution_count": 16,
      "outputs": [
        {
          "output_type": "stream",
          "name": "stdout",
          "text": [
            "Collecting pmdarima\n",
            "  Downloading pmdarima-1.8.4-cp37-cp37m-manylinux_2_17_x86_64.manylinux2014_x86_64.manylinux_2_24_x86_64.whl (1.4 MB)\n",
            "\u001b[?25l\r\u001b[K     |▎                               | 10 kB 22.6 MB/s eta 0:00:01\r\u001b[K     |▌                               | 20 kB 30.9 MB/s eta 0:00:01\r\u001b[K     |▊                               | 30 kB 27.5 MB/s eta 0:00:01\r\u001b[K     |█                               | 40 kB 20.5 MB/s eta 0:00:01\r\u001b[K     |█▏                              | 51 kB 17.8 MB/s eta 0:00:01\r\u001b[K     |█▍                              | 61 kB 14.8 MB/s eta 0:00:01\r\u001b[K     |█▋                              | 71 kB 13.9 MB/s eta 0:00:01\r\u001b[K     |██                              | 81 kB 15.4 MB/s eta 0:00:01\r\u001b[K     |██▏                             | 92 kB 15.7 MB/s eta 0:00:01\r\u001b[K     |██▍                             | 102 kB 14.2 MB/s eta 0:00:01\r\u001b[K     |██▋                             | 112 kB 14.2 MB/s eta 0:00:01\r\u001b[K     |██▉                             | 122 kB 14.2 MB/s eta 0:00:01\r\u001b[K     |███                             | 133 kB 14.2 MB/s eta 0:00:01\r\u001b[K     |███▎                            | 143 kB 14.2 MB/s eta 0:00:01\r\u001b[K     |███▌                            | 153 kB 14.2 MB/s eta 0:00:01\r\u001b[K     |███▉                            | 163 kB 14.2 MB/s eta 0:00:01\r\u001b[K     |████                            | 174 kB 14.2 MB/s eta 0:00:01\r\u001b[K     |████▎                           | 184 kB 14.2 MB/s eta 0:00:01\r\u001b[K     |████▌                           | 194 kB 14.2 MB/s eta 0:00:01\r\u001b[K     |████▊                           | 204 kB 14.2 MB/s eta 0:00:01\r\u001b[K     |█████                           | 215 kB 14.2 MB/s eta 0:00:01\r\u001b[K     |█████▏                          | 225 kB 14.2 MB/s eta 0:00:01\r\u001b[K     |█████▌                          | 235 kB 14.2 MB/s eta 0:00:01\r\u001b[K     |█████▊                          | 245 kB 14.2 MB/s eta 0:00:01\r\u001b[K     |██████                          | 256 kB 14.2 MB/s eta 0:00:01\r\u001b[K     |██████▏                         | 266 kB 14.2 MB/s eta 0:00:01\r\u001b[K     |██████▍                         | 276 kB 14.2 MB/s eta 0:00:01\r\u001b[K     |██████▋                         | 286 kB 14.2 MB/s eta 0:00:01\r\u001b[K     |██████▉                         | 296 kB 14.2 MB/s eta 0:00:01\r\u001b[K     |███████                         | 307 kB 14.2 MB/s eta 0:00:01\r\u001b[K     |███████▍                        | 317 kB 14.2 MB/s eta 0:00:01\r\u001b[K     |███████▋                        | 327 kB 14.2 MB/s eta 0:00:01\r\u001b[K     |███████▉                        | 337 kB 14.2 MB/s eta 0:00:01\r\u001b[K     |████████                        | 348 kB 14.2 MB/s eta 0:00:01\r\u001b[K     |████████▎                       | 358 kB 14.2 MB/s eta 0:00:01\r\u001b[K     |████████▌                       | 368 kB 14.2 MB/s eta 0:00:01\r\u001b[K     |████████▊                       | 378 kB 14.2 MB/s eta 0:00:01\r\u001b[K     |█████████                       | 389 kB 14.2 MB/s eta 0:00:01\r\u001b[K     |█████████▎                      | 399 kB 14.2 MB/s eta 0:00:01\r\u001b[K     |█████████▌                      | 409 kB 14.2 MB/s eta 0:00:01\r\u001b[K     |█████████▊                      | 419 kB 14.2 MB/s eta 0:00:01\r\u001b[K     |██████████                      | 430 kB 14.2 MB/s eta 0:00:01\r\u001b[K     |██████████▏                     | 440 kB 14.2 MB/s eta 0:00:01\r\u001b[K     |██████████▍                     | 450 kB 14.2 MB/s eta 0:00:01\r\u001b[K     |██████████▋                     | 460 kB 14.2 MB/s eta 0:00:01\r\u001b[K     |███████████                     | 471 kB 14.2 MB/s eta 0:00:01\r\u001b[K     |███████████▏                    | 481 kB 14.2 MB/s eta 0:00:01\r\u001b[K     |███████████▍                    | 491 kB 14.2 MB/s eta 0:00:01\r\u001b[K     |███████████▋                    | 501 kB 14.2 MB/s eta 0:00:01\r\u001b[K     |███████████▉                    | 512 kB 14.2 MB/s eta 0:00:01\r\u001b[K     |████████████                    | 522 kB 14.2 MB/s eta 0:00:01\r\u001b[K     |████████████▎                   | 532 kB 14.2 MB/s eta 0:00:01\r\u001b[K     |████████████▌                   | 542 kB 14.2 MB/s eta 0:00:01\r\u001b[K     |████████████▉                   | 552 kB 14.2 MB/s eta 0:00:01\r\u001b[K     |█████████████                   | 563 kB 14.2 MB/s eta 0:00:01\r\u001b[K     |█████████████▎                  | 573 kB 14.2 MB/s eta 0:00:01\r\u001b[K     |█████████████▌                  | 583 kB 14.2 MB/s eta 0:00:01\r\u001b[K     |█████████████▊                  | 593 kB 14.2 MB/s eta 0:00:01\r\u001b[K     |██████████████                  | 604 kB 14.2 MB/s eta 0:00:01\r\u001b[K     |██████████████▏                 | 614 kB 14.2 MB/s eta 0:00:01\r\u001b[K     |██████████████▍                 | 624 kB 14.2 MB/s eta 0:00:01\r\u001b[K     |██████████████▊                 | 634 kB 14.2 MB/s eta 0:00:01\r\u001b[K     |███████████████                 | 645 kB 14.2 MB/s eta 0:00:01\r\u001b[K     |███████████████▏                | 655 kB 14.2 MB/s eta 0:00:01\r\u001b[K     |███████████████▍                | 665 kB 14.2 MB/s eta 0:00:01\r\u001b[K     |███████████████▋                | 675 kB 14.2 MB/s eta 0:00:01\r\u001b[K     |███████████████▉                | 686 kB 14.2 MB/s eta 0:00:01\r\u001b[K     |████████████████                | 696 kB 14.2 MB/s eta 0:00:01\r\u001b[K     |████████████████▍               | 706 kB 14.2 MB/s eta 0:00:01\r\u001b[K     |████████████████▋               | 716 kB 14.2 MB/s eta 0:00:01\r\u001b[K     |████████████████▉               | 727 kB 14.2 MB/s eta 0:00:01\r\u001b[K     |█████████████████               | 737 kB 14.2 MB/s eta 0:00:01\r\u001b[K     |█████████████████▎              | 747 kB 14.2 MB/s eta 0:00:01\r\u001b[K     |█████████████████▌              | 757 kB 14.2 MB/s eta 0:00:01\r\u001b[K     |█████████████████▊              | 768 kB 14.2 MB/s eta 0:00:01\r\u001b[K     |██████████████████              | 778 kB 14.2 MB/s eta 0:00:01\r\u001b[K     |██████████████████▎             | 788 kB 14.2 MB/s eta 0:00:01\r\u001b[K     |██████████████████▌             | 798 kB 14.2 MB/s eta 0:00:01\r\u001b[K     |██████████████████▊             | 808 kB 14.2 MB/s eta 0:00:01\r\u001b[K     |███████████████████             | 819 kB 14.2 MB/s eta 0:00:01\r\u001b[K     |███████████████████▏            | 829 kB 14.2 MB/s eta 0:00:01\r\u001b[K     |███████████████████▍            | 839 kB 14.2 MB/s eta 0:00:01\r\u001b[K     |███████████████████▋            | 849 kB 14.2 MB/s eta 0:00:01\r\u001b[K     |███████████████████▉            | 860 kB 14.2 MB/s eta 0:00:01\r\u001b[K     |████████████████████▏           | 870 kB 14.2 MB/s eta 0:00:01\r\u001b[K     |████████████████████▍           | 880 kB 14.2 MB/s eta 0:00:01\r\u001b[K     |████████████████████▋           | 890 kB 14.2 MB/s eta 0:00:01\r\u001b[K     |████████████████████▉           | 901 kB 14.2 MB/s eta 0:00:01\r\u001b[K     |█████████████████████           | 911 kB 14.2 MB/s eta 0:00:01\r\u001b[K     |█████████████████████▎          | 921 kB 14.2 MB/s eta 0:00:01\r\u001b[K     |█████████████████████▌          | 931 kB 14.2 MB/s eta 0:00:01\r\u001b[K     |█████████████████████▉          | 942 kB 14.2 MB/s eta 0:00:01\r\u001b[K     |██████████████████████          | 952 kB 14.2 MB/s eta 0:00:01\r\u001b[K     |██████████████████████▎         | 962 kB 14.2 MB/s eta 0:00:01\r\u001b[K     |██████████████████████▌         | 972 kB 14.2 MB/s eta 0:00:01\r\u001b[K     |██████████████████████▊         | 983 kB 14.2 MB/s eta 0:00:01\r\u001b[K     |███████████████████████         | 993 kB 14.2 MB/s eta 0:00:01\r\u001b[K     |███████████████████████▏        | 1.0 MB 14.2 MB/s eta 0:00:01\r\u001b[K     |███████████████████████▍        | 1.0 MB 14.2 MB/s eta 0:00:01\r\u001b[K     |███████████████████████▊        | 1.0 MB 14.2 MB/s eta 0:00:01\r\u001b[K     |████████████████████████        | 1.0 MB 14.2 MB/s eta 0:00:01\r\u001b[K     |████████████████████████▏       | 1.0 MB 14.2 MB/s eta 0:00:01\r\u001b[K     |████████████████████████▍       | 1.1 MB 14.2 MB/s eta 0:00:01\r\u001b[K     |████████████████████████▋       | 1.1 MB 14.2 MB/s eta 0:00:01\r\u001b[K     |████████████████████████▉       | 1.1 MB 14.2 MB/s eta 0:00:01\r\u001b[K     |█████████████████████████       | 1.1 MB 14.2 MB/s eta 0:00:01\r\u001b[K     |█████████████████████████▎      | 1.1 MB 14.2 MB/s eta 0:00:01\r\u001b[K     |█████████████████████████▋      | 1.1 MB 14.2 MB/s eta 0:00:01\r\u001b[K     |█████████████████████████▉      | 1.1 MB 14.2 MB/s eta 0:00:01\r\u001b[K     |██████████████████████████      | 1.1 MB 14.2 MB/s eta 0:00:01\r\u001b[K     |██████████████████████████▎     | 1.1 MB 14.2 MB/s eta 0:00:01\r\u001b[K     |██████████████████████████▌     | 1.1 MB 14.2 MB/s eta 0:00:01\r\u001b[K     |██████████████████████████▊     | 1.2 MB 14.2 MB/s eta 0:00:01\r\u001b[K     |███████████████████████████     | 1.2 MB 14.2 MB/s eta 0:00:01\r\u001b[K     |███████████████████████████▎    | 1.2 MB 14.2 MB/s eta 0:00:01\r\u001b[K     |███████████████████████████▌    | 1.2 MB 14.2 MB/s eta 0:00:01\r\u001b[K     |███████████████████████████▊    | 1.2 MB 14.2 MB/s eta 0:00:01\r\u001b[K     |████████████████████████████    | 1.2 MB 14.2 MB/s eta 0:00:01\r\u001b[K     |████████████████████████████▏   | 1.2 MB 14.2 MB/s eta 0:00:01\r\u001b[K     |████████████████████████████▍   | 1.2 MB 14.2 MB/s eta 0:00:01\r\u001b[K     |████████████████████████████▋   | 1.2 MB 14.2 MB/s eta 0:00:01\r\u001b[K     |████████████████████████████▉   | 1.2 MB 14.2 MB/s eta 0:00:01\r\u001b[K     |█████████████████████████████▏  | 1.3 MB 14.2 MB/s eta 0:00:01\r\u001b[K     |█████████████████████████████▍  | 1.3 MB 14.2 MB/s eta 0:00:01\r\u001b[K     |█████████████████████████████▋  | 1.3 MB 14.2 MB/s eta 0:00:01\r\u001b[K     |█████████████████████████████▉  | 1.3 MB 14.2 MB/s eta 0:00:01\r\u001b[K     |██████████████████████████████  | 1.3 MB 14.2 MB/s eta 0:00:01\r\u001b[K     |██████████████████████████████▎ | 1.3 MB 14.2 MB/s eta 0:00:01\r\u001b[K     |██████████████████████████████▌ | 1.3 MB 14.2 MB/s eta 0:00:01\r\u001b[K     |██████████████████████████████▊ | 1.3 MB 14.2 MB/s eta 0:00:01\r\u001b[K     |███████████████████████████████ | 1.3 MB 14.2 MB/s eta 0:00:01\r\u001b[K     |███████████████████████████████▎| 1.4 MB 14.2 MB/s eta 0:00:01\r\u001b[K     |███████████████████████████████▌| 1.4 MB 14.2 MB/s eta 0:00:01\r\u001b[K     |███████████████████████████████▊| 1.4 MB 14.2 MB/s eta 0:00:01\r\u001b[K     |████████████████████████████████| 1.4 MB 14.2 MB/s eta 0:00:01\r\u001b[K     |████████████████████████████████| 1.4 MB 14.2 MB/s \n",
            "\u001b[?25hRequirement already satisfied: setuptools!=50.0.0,>=38.6.0 in /usr/local/lib/python3.7/dist-packages (from pmdarima) (57.4.0)\n",
            "Requirement already satisfied: scipy>=1.3.2 in /usr/local/lib/python3.7/dist-packages (from pmdarima) (1.4.1)\n",
            "Requirement already satisfied: Cython!=0.29.18,>=0.29 in /usr/local/lib/python3.7/dist-packages (from pmdarima) (0.29.24)\n",
            "Requirement already satisfied: joblib>=0.11 in /usr/local/lib/python3.7/dist-packages (from pmdarima) (1.1.0)\n",
            "Requirement already satisfied: scikit-learn>=0.22 in /usr/local/lib/python3.7/dist-packages (from pmdarima) (1.0.1)\n",
            "Requirement already satisfied: statsmodels!=0.12.0,>=0.11 in /usr/local/lib/python3.7/dist-packages (from pmdarima) (0.13.1)\n",
            "Requirement already satisfied: pandas>=0.19 in /usr/local/lib/python3.7/dist-packages (from pmdarima) (1.1.5)\n",
            "Requirement already satisfied: urllib3 in /usr/local/lib/python3.7/dist-packages (from pmdarima) (1.24.3)\n",
            "Requirement already satisfied: numpy>=1.19.3 in /usr/local/lib/python3.7/dist-packages (from pmdarima) (1.19.5)\n",
            "Requirement already satisfied: python-dateutil>=2.7.3 in /usr/local/lib/python3.7/dist-packages (from pandas>=0.19->pmdarima) (2.8.2)\n",
            "Requirement already satisfied: pytz>=2017.2 in /usr/local/lib/python3.7/dist-packages (from pandas>=0.19->pmdarima) (2018.9)\n",
            "Requirement already satisfied: six>=1.5 in /usr/local/lib/python3.7/dist-packages (from python-dateutil>=2.7.3->pandas>=0.19->pmdarima) (1.15.0)\n",
            "Requirement already satisfied: threadpoolctl>=2.0.0 in /usr/local/lib/python3.7/dist-packages (from scikit-learn>=0.22->pmdarima) (3.0.0)\n",
            "Requirement already satisfied: patsy>=0.5.2 in /usr/local/lib/python3.7/dist-packages (from statsmodels!=0.12.0,>=0.11->pmdarima) (0.5.2)\n",
            "Installing collected packages: pmdarima\n",
            "Successfully installed pmdarima-1.8.4\n"
          ]
        }
      ]
    },
    {
      "cell_type": "markdown",
      "source": [
        "The function\n",
        "\n",
        "```\n",
        "AIC_PDQ\n",
        "```\n",
        "\n",
        "takes 4 arguments, the series, max lag on the AR parameters labeled 'p', the integration order labeled 'ii', and the max lags on the MA parameter labeled 'q'. If we know the series does not need to be differenced, then we set ii=1, if the integration order is 1, then we set ii=2.\n",
        "\n",
        "The output of the function is the combination of p,d,q that minimizes AIC,\n",
        "\n",
        "We create a similar function called:\n",
        "```\n",
        "BIC_PDQ\n",
        "```\n",
        "which takes the same arguments, however, returns the combination of p,d,q that minimizes BIC.\n"
      ],
      "metadata": {
        "id": "XR6C4bO78wDB"
      }
    },
    {
      "cell_type": "code",
      "source": [
        "def AIC_PDQ(df,ar,ii,ma): \n",
        "\n",
        "# Define the p, d and q parameters to take any value between 0 and 2\n",
        "    p = range(0,ar)\n",
        "    d = range(0,ii)\n",
        "    q = range(0, ma)\n",
        "\n",
        "# Auto-Regressive (p) -> Number of autoregressive terms.\n",
        "# Integrated (d) -> Number of nonseasonal differences needed for stationarity.\n",
        "# Moving Average (q) -> Number of lagged forecast errors in the prediction equation.\n",
        "# Generate all different combinations of p, q and q triplets\n",
        "    pdq = list(itertools.product(p, d, q))\n",
        "# Generate all different combinations of seasonal p, q and q triplets\n",
        "# Run a grid with pdq and seasonal pdq parameters calculated above and get #the best AIC value\n",
        "    ans = []\n",
        "    for comb in pdq:\n",
        "      try:\n",
        "          mod = ARIMA(df,\n",
        "                      order=comb,\n",
        "                      enforce_stationarity=False,\n",
        "                      enforce_invertibility=False)\n",
        "          \n",
        "          output = mod.fit()\n",
        "          ans.append([comb, output.aic])\n",
        "          print('ARIMA {} x {}12 : AIC Calculated ={}'.format(comb, output.aic))\n",
        "      except:\n",
        "        continue\n",
        "# Find the parameters with minimal AIC value\n",
        "    ans_df = pd.DataFrame(ans, columns=['pdq', 'aic'])\n",
        "    print(ans_df.loc[ans_df['aic'].idxmin()])\n",
        "    return ans_df\n"
      ],
      "metadata": {
        "id": "VQaCSjgSz9RO"
      },
      "execution_count": 22,
      "outputs": []
    },
    {
      "cell_type": "code",
      "source": [
        "AIC_PDQ(df['Index'],12,1,12)"
      ],
      "metadata": {
        "id": "NWnr8acV2_cj"
      },
      "execution_count": null,
      "outputs": []
    },
    {
      "cell_type": "code",
      "source": [
        "def BIC_PDQ(df,ar,ii,ma): \n",
        "\n",
        "# Define the p, d and q parameters to take any value between 0 and 2\n",
        "    p = range(0,ar)\n",
        "    d = range(0,ii)\n",
        "    q = range(0, ma)\n",
        "\n",
        "# Auto-Regressive (p) -> Number of autoregressive terms.\n",
        "# Integrated (d) -> Number of nonseasonal differences needed for stationarity.\n",
        "# Moving Average (q) -> Number of lagged forecast errors in the prediction equation.\n",
        "# Generate all different combinations of p, q and q triplets\n",
        "    pdq = list(itertools.product(p, d, q))\n",
        "# Generate all different combinations of seasonal p, q and q triplets\n",
        "# Run a grid with pdq and seasonal pdq parameters calculated above and get #the best AIC value\n",
        "    ans = []\n",
        "    for comb in pdq:\n",
        "      try:\n",
        "          mod = ARIMA(df,\n",
        "                      order=comb,\n",
        "                      enforce_stationarity=False,\n",
        "                      enforce_invertibility=False)\n",
        "          \n",
        "          output = mod.fit()\n",
        "          ans.append([comb, output.aic])\n",
        "          print('ARIMA {} x {}12 : AIC Calculated ={}'.format(comb, output.bic))\n",
        "      except:\n",
        "        continue\n",
        "# Find the parameters with minimal AIC value\n",
        "    ans_df = pd.DataFrame(ans, columns=['pdq', 'bic'])\n",
        "    print(ans_df.loc[ans_df['bic'].idxmin()])\n",
        "    return ans_df\n"
      ],
      "metadata": {
        "id": "IEH5ekkA4Sdc"
      },
      "execution_count": 24,
      "outputs": []
    },
    {
      "cell_type": "code",
      "source": [
        "BIC_PDQ(df['Index'],12,1,12)"
      ],
      "metadata": {
        "id": "YJ6XDJef6hjm"
      },
      "execution_count": null,
      "outputs": []
    },
    {
      "cell_type": "markdown",
      "source": [
        "We will now shift gears and focus on the Autocorrelation (ACF) and Partial Autocorrelation functions (PACF)."
      ],
      "metadata": {
        "id": "6F5S-j2K-PnC"
      }
    },
    {
      "cell_type": "code",
      "source": [
        "import statsmodels.api as sm"
      ],
      "metadata": {
        "id": "ULteS3EC_2Mm"
      },
      "execution_count": 28,
      "outputs": []
    },
    {
      "cell_type": "code",
      "source": [
        "sm.graphics.tsa.plot_acf(df['Index'].squeeze(), lags=24)"
      ],
      "metadata": {
        "colab": {
          "base_uri": "https://localhost:8080/",
          "height": 545
        },
        "id": "-QhT53pG8uYl",
        "outputId": "1cf54792-3dde-4c07-86b8-975b58feb7e6"
      },
      "execution_count": 30,
      "outputs": [
        {
          "output_type": "execute_result",
          "data": {
            "image/png": "[encoded data removed]",
            "text/plain": [
              "<Figure size 432x288 with 1 Axes>"
            ]
          },
          "metadata": {},
          "execution_count": 30
        },
        {
          "output_type": "display_data",
          "data": {
            "image/png": "[encoded data removed]",
            "text/plain": [
              "<Figure size 432x288 with 1 Axes>"
            ]
          },
          "metadata": {
            "needs_background": "light"
          }
        }
      ]
    },
    {
      "cell_type": "code",
      "source": [
        "sm.graphics.tsa.plot_pacf(df['Index'].squeeze(), lags=24)"
      ],
      "metadata": {
        "colab": {
          "base_uri": "https://localhost:8080/",
          "height": 599
        },
        "id": "vWnyrGnF_8NR",
        "outputId": "fb6ce9cb-125b-458d-ea14-a88498927adb"
      },
      "execution_count": 31,
      "outputs": [
        {
          "output_type": "stream",
          "name": "stderr",
          "text": [
            "/usr/local/lib/python3.7/dist-packages/statsmodels/graphics/tsaplots.py:353: FutureWarning: The default method 'yw' can produce PACF values outside of the [-1,1] interval. After 0.13, the default will change tounadjusted Yule-Walker ('ywm'). You can use this method now by setting method='ywm'.\n",
            "  FutureWarning,\n"
          ]
        },
        {
          "output_type": "execute_result",
          "data": {
            "image/png": "[encoded data removed]",
            "text/plain": [
              "<Figure size 432x288 with 1 Axes>"
            ]
          },
          "metadata": {},
          "execution_count": 31
        },
        {
          "output_type": "display_data",
          "data": {
            "image/png": "[encoded data removed]",
            "text/plain": [
              "<Figure size 432x288 with 1 Axes>"
            ]
          },
          "metadata": {
            "needs_background": "light"
          }
        }
      ]
    },
    {
      "cell_type": "code",
      "source": [
        "res = ARIMA(df['Index'],order=(10,0,11)).fit()"
      ],
      "metadata": {
        "id": "TWkzlbkhAk0E"
      },
      "execution_count": null,
      "outputs": []
    },
    {
      "cell_type": "code",
      "source": [
        "res.summary()\n"
      ],
      "metadata": {
        "colab": {
          "base_uri": "https://localhost:8080/",
          "height": 860
        },
        "id": "R_cY1_LVA3vm",
        "outputId": "826e9b50-8893-4b32-d312-26a56b1598f0"
      },
      "execution_count": 34,
      "outputs": [
        {
          "output_type": "execute_result",
          "data": {
            "text/html": [
              "<table class=\"simpletable\">\n",
              "<caption>SARIMAX Results</caption>\n",
              "<tr>\n",
              "  <th>Dep. Variable:</th>         <td>Index</td>      <th>  No. Observations:  </th>   <td>1128</td>   \n",
              "</tr>\n",
              "<tr>\n",
              "  <th>Model:</th>           <td>ARIMA(10, 0, 11)</td> <th>  Log Likelihood     </th> <td>-5647.406</td>\n",
              "</tr>\n",
              "<tr>\n",
              "  <th>Date:</th>            <td>Wed, 29 Dec 2021</td> <th>  AIC                </th> <td>11340.812</td>\n",
              "</tr>\n",
              "<tr>\n",
              "  <th>Time:</th>                <td>07:07:11</td>     <th>  BIC                </th> <td>11456.461</td>\n",
              "</tr>\n",
              "<tr>\n",
              "  <th>Sample:</th>                  <td>0</td>        <th>  HQIC               </th> <td>11384.509</td>\n",
              "</tr>\n",
              "<tr>\n",
              "  <th></th>                      <td> - 1128</td>     <th>                     </th>     <td> </td>    \n",
              "</tr>\n",
              "<tr>\n",
              "  <th>Covariance Type:</th>        <td>opg</td>       <th>                     </th>     <td> </td>    \n",
              "</tr>\n",
              "</table>\n",
              "<table class=\"simpletable\">\n",
              "<tr>\n",
              "     <td></td>       <th>coef</th>     <th>std err</th>      <th>z</th>      <th>P>|z|</th>  <th>[0.025</th>    <th>0.975]</th>  \n",
              "</tr>\n",
              "<tr>\n",
              "  <th>const</th>  <td>  486.8684</td> <td>    0.001</td> <td> 3.48e+05</td> <td> 0.000</td> <td>  486.866</td> <td>  486.871</td>\n",
              "</tr>\n",
              "<tr>\n",
              "  <th>ar.L1</th>  <td>    0.1237</td> <td>    0.052</td> <td>    2.401</td> <td> 0.016</td> <td>    0.023</td> <td>    0.225</td>\n",
              "</tr>\n",
              "<tr>\n",
              "  <th>ar.L2</th>  <td>    0.3177</td> <td>    0.042</td> <td>    7.607</td> <td> 0.000</td> <td>    0.236</td> <td>    0.400</td>\n",
              "</tr>\n",
              "<tr>\n",
              "  <th>ar.L3</th>  <td>   -0.6905</td> <td>    0.059</td> <td>  -11.626</td> <td> 0.000</td> <td>   -0.807</td> <td>   -0.574</td>\n",
              "</tr>\n",
              "<tr>\n",
              "  <th>ar.L4</th>  <td>   -0.1282</td> <td>    0.051</td> <td>   -2.539</td> <td> 0.011</td> <td>   -0.227</td> <td>   -0.029</td>\n",
              "</tr>\n",
              "<tr>\n",
              "  <th>ar.L5</th>  <td>    0.0099</td> <td>    0.044</td> <td>    0.223</td> <td> 0.823</td> <td>   -0.077</td> <td>    0.096</td>\n",
              "</tr>\n",
              "<tr>\n",
              "  <th>ar.L6</th>  <td>    0.0891</td> <td>    0.054</td> <td>    1.645</td> <td> 0.100</td> <td>   -0.017</td> <td>    0.195</td>\n",
              "</tr>\n",
              "<tr>\n",
              "  <th>ar.L7</th>  <td>    0.7965</td> <td>    0.044</td> <td>   18.232</td> <td> 0.000</td> <td>    0.711</td> <td>    0.882</td>\n",
              "</tr>\n",
              "<tr>\n",
              "  <th>ar.L8</th>  <td>   -0.1699</td> <td>    0.061</td> <td>   -2.764</td> <td> 0.006</td> <td>   -0.290</td> <td>   -0.049</td>\n",
              "</tr>\n",
              "<tr>\n",
              "  <th>ar.L9</th>  <td>   -0.1010</td> <td>    0.040</td> <td>   -2.501</td> <td> 0.012</td> <td>   -0.180</td> <td>   -0.022</td>\n",
              "</tr>\n",
              "<tr>\n",
              "  <th>ar.L10</th> <td>    0.7523</td> <td>    0.046</td> <td>   16.313</td> <td> 0.000</td> <td>    0.662</td> <td>    0.843</td>\n",
              "</tr>\n",
              "<tr>\n",
              "  <th>ma.L1</th>  <td>    0.9439</td> <td>    0.057</td> <td>   16.456</td> <td> 0.000</td> <td>    0.831</td> <td>    1.056</td>\n",
              "</tr>\n",
              "<tr>\n",
              "  <th>ma.L2</th>  <td>    0.4803</td> <td>    0.075</td> <td>    6.371</td> <td> 0.000</td> <td>    0.333</td> <td>    0.628</td>\n",
              "</tr>\n",
              "<tr>\n",
              "  <th>ma.L3</th>  <td>    1.2464</td> <td>    0.066</td> <td>   18.874</td> <td> 0.000</td> <td>    1.117</td> <td>    1.376</td>\n",
              "</tr>\n",
              "<tr>\n",
              "  <th>ma.L4</th>  <td>    1.4771</td> <td>    0.050</td> <td>   29.491</td> <td> 0.000</td> <td>    1.379</td> <td>    1.575</td>\n",
              "</tr>\n",
              "<tr>\n",
              "  <th>ma.L5</th>  <td>    1.3923</td> <td>    0.070</td> <td>   20.007</td> <td> 0.000</td> <td>    1.256</td> <td>    1.529</td>\n",
              "</tr>\n",
              "<tr>\n",
              "  <th>ma.L6</th>  <td>    1.2583</td> <td>    0.083</td> <td>   15.241</td> <td> 0.000</td> <td>    1.097</td> <td>    1.420</td>\n",
              "</tr>\n",
              "<tr>\n",
              "  <th>ma.L7</th>  <td>    0.6076</td> <td>    0.076</td> <td>    7.954</td> <td> 0.000</td> <td>    0.458</td> <td>    0.757</td>\n",
              "</tr>\n",
              "<tr>\n",
              "  <th>ma.L8</th>  <td>    0.7715</td> <td>    0.053</td> <td>   14.486</td> <td> 0.000</td> <td>    0.667</td> <td>    0.876</td>\n",
              "</tr>\n",
              "<tr>\n",
              "  <th>ma.L9</th>  <td>    0.8118</td> <td>    0.034</td> <td>   23.910</td> <td> 0.000</td> <td>    0.745</td> <td>    0.878</td>\n",
              "</tr>\n",
              "<tr>\n",
              "  <th>ma.L10</th> <td>    0.1264</td> <td>    0.033</td> <td>    3.814</td> <td> 0.000</td> <td>    0.061</td> <td>    0.191</td>\n",
              "</tr>\n",
              "<tr>\n",
              "  <th>ma.L11</th> <td>    0.1089</td> <td>    0.023</td> <td>    4.669</td> <td> 0.000</td> <td>    0.063</td> <td>    0.155</td>\n",
              "</tr>\n",
              "<tr>\n",
              "  <th>sigma2</th> <td> 1343.4589</td> <td>   25.254</td> <td>   53.198</td> <td> 0.000</td> <td> 1293.962</td> <td> 1392.956</td>\n",
              "</tr>\n",
              "</table>\n",
              "<table class=\"simpletable\">\n",
              "<tr>\n",
              "  <th>Ljung-Box (L1) (Q):</th>      <td>0.00</td>   <th>  Jarque-Bera (JB):  </th> <td>15494.90</td>\n",
              "</tr>\n",
              "<tr>\n",
              "  <th>Prob(Q):</th>                 <td>0.95</td>   <th>  Prob(JB):          </th>   <td>0.00</td>  \n",
              "</tr>\n",
              "<tr>\n",
              "  <th>Heteroskedasticity (H):</th> <td>2633.28</td> <th>  Skew:              </th>   <td>-0.07</td> \n",
              "</tr>\n",
              "<tr>\n",
              "  <th>Prob(H) (two-sided):</th>     <td>0.00</td>   <th>  Kurtosis:          </th>   <td>21.16</td> \n",
              "</tr>\n",
              "</table><br/><br/>Warnings:<br/>[1] Covariance matrix calculated using the outer product of gradients (complex-step).<br/>[2] Covariance matrix is singular or near-singular, with condition number 2.07e+20. Standard errors may be unstable."
            ],
            "text/plain": [
              "<class 'statsmodels.iolib.summary.Summary'>\n",
              "\"\"\"\n",
              "                               SARIMAX Results                                \n",
              "==============================================================================\n",
              "Dep. Variable:                  Index   No. Observations:                 1128\n",
              "Model:               ARIMA(10, 0, 11)   Log Likelihood               -5647.406\n",
              "Date:                Wed, 29 Dec 2021   AIC                          11340.812\n",
              "Time:                        07:07:11   BIC                          11456.461\n",
              "Sample:                             0   HQIC                         11384.509\n",
              "                               - 1128                                         \n",
              "Covariance Type:                  opg                                         \n",
              "==============================================================================\n",
              "                 coef    std err          z      P>|z|      [0.025      0.975]\n",
              "------------------------------------------------------------------------------\n",
              "const        486.8684      0.001   3.48e+05      0.000     486.866     486.871\n",
              "ar.L1          0.1237      0.052      2.401      0.016       0.023       0.225\n",
              "ar.L2          0.3177      0.042      7.607      0.000       0.236       0.400\n",
              "ar.L3         -0.6905      0.059    -11.626      0.000      -0.807      -0.574\n",
              "ar.L4         -0.1282      0.051     -2.539      0.011      -0.227      -0.029\n",
              "ar.L5          0.0099      0.044      0.223      0.823      -0.077       0.096\n",
              "ar.L6          0.0891      0.054      1.645      0.100      -0.017       0.195\n",
              "ar.L7          0.7965      0.044     18.232      0.000       0.711       0.882\n",
              "ar.L8         -0.1699      0.061     -2.764      0.006      -0.290      -0.049\n",
              "ar.L9         -0.1010      0.040     -2.501      0.012      -0.180      -0.022\n",
              "ar.L10         0.7523      0.046     16.313      0.000       0.662       0.843\n",
              "ma.L1          0.9439      0.057     16.456      0.000       0.831       1.056\n",
              "ma.L2          0.4803      0.075      6.371      0.000       0.333       0.628\n",
              "ma.L3          1.2464      0.066     18.874      0.000       1.117       1.376\n",
              "ma.L4          1.4771      0.050     29.491      0.000       1.379       1.575\n",
              "ma.L5          1.3923      0.070     20.007      0.000       1.256       1.529\n",
              "ma.L6          1.2583      0.083     15.241      0.000       1.097       1.420\n",
              "ma.L7          0.6076      0.076      7.954      0.000       0.458       0.757\n",
              "ma.L8          0.7715      0.053     14.486      0.000       0.667       0.876\n",
              "ma.L9          0.8118      0.034     23.910      0.000       0.745       0.878\n",
              "ma.L10         0.1264      0.033      3.814      0.000       0.061       0.191\n",
              "ma.L11         0.1089      0.023      4.669      0.000       0.063       0.155\n",
              "sigma2      1343.4589     25.254     53.198      0.000    1293.962    1392.956\n",
              "===================================================================================\n",
              "Ljung-Box (L1) (Q):                   0.00   Jarque-Bera (JB):             15494.90\n",
              "Prob(Q):                              0.95   Prob(JB):                         0.00\n",
              "Heteroskedasticity (H):            2633.28   Skew:                            -0.07\n",
              "Prob(H) (two-sided):                  0.00   Kurtosis:                        21.16\n",
              "===================================================================================\n",
              "\n",
              "Warnings:\n",
              "[1] Covariance matrix calculated using the outer product of gradients (complex-step).\n",
              "[2] Covariance matrix is singular or near-singular, with condition number 2.07e+20. Standard errors may be unstable.\n",
              "\"\"\""
            ]
          },
          "metadata": {},
          "execution_count": 34
        }
      ]
    },
    {
      "cell_type": "code",
      "source": [
        "sm.stats.acorr_ljungbox(res.resid, lags=[12], return_df=True)"
      ],
      "metadata": {
        "colab": {
          "base_uri": "https://localhost:8080/",
          "height": 80
        },
        "id": "KFRNbDvCAQnr",
        "outputId": "8353d319-35a2-4fef-bddf-19d4baf253d5"
      },
      "execution_count": 37,
      "outputs": [
        {
          "output_type": "execute_result",
          "data": {
            "text/html": [
              "\n",
              "  <div id=\"df-4cdac374-a1f4-4431-9e47-64a7c471fa47\">\n",
              "    <div class=\"colab-df-container\">\n",
              "      <div>\n",
              "<style scoped>\n",
              "    .dataframe tbody tr th:only-of-type {\n",
              "        vertical-align: middle;\n",
              "    }\n",
              "\n",
              "    .dataframe tbody tr th {\n",
              "        vertical-align: top;\n",
              "    }\n",
              "\n",
              "    .dataframe thead th {\n",
              "        text-align: right;\n",
              "    }\n",
              "</style>\n",
              "<table border=\"1\" class=\"dataframe\">\n",
              "  <thead>\n",
              "    <tr style=\"text-align: right;\">\n",
              "      <th></th>\n",
              "      <th>lb_stat</th>\n",
              "      <th>lb_pvalue</th>\n",
              "    </tr>\n",
              "  </thead>\n",
              "  <tbody>\n",
              "    <tr>\n",
              "      <th>12</th>\n",
              "      <td>9.617836</td>\n",
              "      <td>0.649448</td>\n",
              "    </tr>\n",
              "  </tbody>\n",
              "</table>\n",
              "</div>\n",
              "      <button class=\"colab-df-convert\" onclick=\"convertToInteractive('df-4cdac374-a1f4-4431-9e47-64a7c471fa47')\"\n",
              "              title=\"Convert this dataframe to an interactive table.\"\n",
              "              style=\"display:none;\">\n",
              "        \n",
              "  <svg xmlns=\"http://www.w3.org/2000/svg\" height=\"24px\"viewBox=\"0 0 24 24\"\n",
              "       width=\"24px\">\n",
              "    <path d=\"M0 0h24v24H0V0z\" fill=\"none\"/>\n",
              "    <path d=\"M18.56 5.44l.94 2.06.94-2.06 2.06-.94-2.06-.94-.94-2.06-.94 2.06-2.06.94zm-11 1L8.5 8.5l.94-2.06 2.06-.94-2.06-.94L8.5 2.5l-.94 2.06-2.06.94zm10 10l.94 2.06.94-2.06 2.06-.94-2.06-.94-.94-2.06-.94 2.06-2.06.94z\"/><path d=\"M17.41 7.96l-1.37-1.37c-.4-.4-.92-.59-1.43-.59-.52 0-1.04.2-1.43.59L10.3 9.45l-7.72 7.72c-.78.78-.78 2.05 0 2.83L4 21.41c.39.39.9.59 1.41.59.51 0 1.02-.2 1.41-.59l7.78-7.78 2.81-2.81c.8-.78.8-2.07 0-2.86zM5.41 20L4 18.59l7.72-7.72 1.47 1.35L5.41 20z\"/>\n",
              "  </svg>\n",
              "      </button>\n",
              "      \n",
              "  <style>\n",
              "    .colab-df-container {\n",
              "      display:flex;\n",
              "      flex-wrap:wrap;\n",
              "      gap: 12px;\n",
              "    }\n",
              "\n",
              "    .colab-df-convert {\n",
              "      background-color: #E8F0FE;\n",
              "      border: none;\n",
              "      border-radius: 50%;\n",
              "      cursor: pointer;\n",
              "      display: none;\n",
              "      fill: #1967D2;\n",
              "      height: 32px;\n",
              "      padding: 0 0 0 0;\n",
              "      width: 32px;\n",
              "    }\n",
              "\n",
              "    .colab-df-convert:hover {\n",
              "      background-color: #E2EBFA;\n",
              "      box-shadow: 0px 1px 2px rgba(60, 64, 67, 0.3), 0px 1px 3px 1px rgba(60, 64, 67, 0.15);\n",
              "      fill: #174EA6;\n",
              "    }\n",
              "\n",
              "    [theme=dark] .colab-df-convert {\n",
              "      background-color: #3B4455;\n",
              "      fill: #D2E3FC;\n",
              "    }\n",
              "\n",
              "    [theme=dark] .colab-df-convert:hover {\n",
              "      background-color: #434B5C;\n",
              "      box-shadow: 0px 1px 3px 1px rgba(0, 0, 0, 0.15);\n",
              "      filter: drop-shadow(0px 1px 2px rgba(0, 0, 0, 0.3));\n",
              "      fill: #FFFFFF;\n",
              "    }\n",
              "  </style>\n",
              "\n",
              "      <script>\n",
              "        const buttonEl =\n",
              "          document.querySelector('#df-4cdac374-a1f4-4431-9e47-64a7c471fa47 button.colab-df-convert');\n",
              "        buttonEl.style.display =\n",
              "          google.colab.kernel.accessAllowed ? 'block' : 'none';\n",
              "\n",
              "        async function convertToInteractive(key) {\n",
              "          const element = document.querySelector('#df-4cdac374-a1f4-4431-9e47-64a7c471fa47');\n",
              "          const dataTable =\n",
              "            await google.colab.kernel.invokeFunction('convertToInteractive',\n",
              "                                                     [key], {});\n",
              "          if (!dataTable) return;\n",
              "\n",
              "          const docLinkHtml = 'Like what you see? Visit the ' +\n",
              "            '<a target=\"_blank\" href=https://colab.research.google.com/notebooks/data_table.ipynb>data table notebook</a>'\n",
              "            + ' to learn more about interactive tables.';\n",
              "          element.innerHTML = '';\n",
              "          dataTable['output_type'] = 'display_data';\n",
              "          await google.colab.output.renderOutput(dataTable, element);\n",
              "          const docLink = document.createElement('div');\n",
              "          docLink.innerHTML = docLinkHtml;\n",
              "          element.appendChild(docLink);\n",
              "        }\n",
              "      </script>\n",
              "    </div>\n",
              "  </div>\n",
              "  "
            ],
            "text/plain": [
              "     lb_stat  lb_pvalue\n",
              "12  9.617836   0.649448"
            ]
          },
          "metadata": {},
          "execution_count": 37
        }
      ]
    },
    {
      "cell_type": "code",
      "source": [
        "from statsmodels.tsa.stattools import adfuller\n",
        "\n",
        "\n",
        "def adf_test(timeseries):\n",
        "    print(\"Results of Dickey-Fuller Test:\")\n",
        "    dftest = adfuller(timeseries, autolag=\"AIC\")\n",
        "    dfoutput = pd.Series(\n",
        "        dftest[0:4],\n",
        "        index=[\n",
        "            \"Test Statistic\",\n",
        "            \"p-value\",\n",
        "            \"#Lags Used\",\n",
        "            \"Number of Observations Used\",\n",
        "        ],\n",
        "    )\n",
        "    for key, value in dftest[4].items():\n",
        "        dfoutput[\"Critical Value (%s)\" % key] = value\n",
        "    print(dfoutput)"
      ],
      "metadata": {
        "id": "5J7EPVAJBCzl"
      },
      "execution_count": 38,
      "outputs": []
    },
    {
      "cell_type": "code",
      "source": [
        "adf_test(df['Index'])"
      ],
      "metadata": {
        "colab": {
          "base_uri": "https://localhost:8080/"
        },
        "id": "H0fY80iVBjAB",
        "outputId": "e7e4a4fa-61f3-40a1-9ef8-641d63381eea"
      },
      "execution_count": 39,
      "outputs": [
        {
          "output_type": "stream",
          "name": "stdout",
          "text": [
            "Results of Dickey-Fuller Test:\n",
            "Test Statistic                    4.364641\n",
            "p-value                           1.000000\n",
            "#Lags Used                       22.000000\n",
            "Number of Observations Used    1105.000000\n",
            "Critical Value (1%)              -3.436282\n",
            "Critical Value (5%)              -2.864159\n",
            "Critical Value (10%)             -2.568165\n",
            "dtype: float64\n"
          ]
        }
      ]
    },
    {
      "cell_type": "code",
      "source": [
        ""
      ],
      "metadata": {
        "id": "xGFPJxybBmiH"
      },
      "execution_count": null,
      "outputs": []
    }
  ]
}